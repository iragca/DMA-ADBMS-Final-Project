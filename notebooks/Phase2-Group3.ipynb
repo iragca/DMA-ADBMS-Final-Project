{
  "nbformat": 4,
  "nbformat_minor": 0,
  "metadata": {
    "colab": {
      "provenance": [],
      "include_colab_link": true
    },
    "kernelspec": {
      "name": "python3",
      "display_name": "Python 3"
    },
    "language_info": {
      "name": "python"
    }
  },
  "cells": [
    {
      "cell_type": "markdown",
      "metadata": {
        "id": "view-in-github",
        "colab_type": "text"
      },
      "source": [
        "<a href=\"https://colab.research.google.com/github/iragca/DS313/blob/main/notebooks/Phase2-Group3.ipynb\" target=\"_parent\"><img src=\"https://colab.research.google.com/assets/colab-badge.svg\" alt=\"Open In Colab\"/></a>"
      ]
    },
    {
      "cell_type": "markdown",
      "source": [
        "# Phase 2: Database Setup and Data Migration\n",
        "**DMA / ADBMS Final Project**\n",
        "\n",
        "Members:\n",
        "\n",
        "\n",
        "*   Chris Andrei Irag*\n",
        "*   Hernel Juanico\n",
        "*   Keith Laspoña\n",
        "*   Airyll Sanchez\n",
        "*   Kobe Marco Olaguir\n",
        "*   Ruszed Jy Ayad\n",
        "\n",
        "University of Science and Technology of Southern Philippines\n",
        "\n",
        "*irag.chrisandrei@mailbox.org"
      ],
      "metadata": {
        "id": "iE0PDmn4cJwc"
      }
    },
    {
      "cell_type": "markdown",
      "source": [
        "## Utilizing AWS Postgres Relational Database to store data from AniList's API"
      ],
      "metadata": {
        "id": "-kA9SrVKtyZO"
      }
    },
    {
      "cell_type": "markdown",
      "source": [
        "We chose **AWS Postgres Relational Database** for the **AniList API** due to its scalability, performance optimization, and efficient handling of structured data, making it ideal for managing live anime data retrieved from the API.\n",
        "\n",
        "It supports relational data structures to organize and query anime datasets effectively, integrates seamlessly with analytical tools like Python and Tableau, and provides robust security features, including encryption and compliance with data protection standards.\n",
        "\n",
        "AWS RDS also ensures high availability through Multi-AZ deployments and offers a cost-effective, pay-as-you-go model, making it a reliable solution for storing and analyzing large datasets to derive meaningful insights for anime enthusiasts and developers."
      ],
      "metadata": {
        "id": "POVg-lzgt17L"
      }
    },
    {
      "cell_type": "markdown",
      "source": [
        "Before starting, we need to import the following libraries:\n",
        "\n",
        "*   `os`: Provides tools for managing files, directories, and system operations.\n",
        "*   `pandas`: Used for transforming and viewing tabular data.\n",
        "*   `psycopg2`: A PostgreSQL database adapter for Python.\n",
        "*   `polars`: High-performance data manipulation library.\n",
        "*   `requests`: Simplifies API requests and web data handling.\n",
        "*   `dotenv`: Manages environment variables securely."
      ],
      "metadata": {
        "id": "7un7XA2ScM33"
      }
    },
    {
      "cell_type": "code",
      "execution_count": null,
      "metadata": {
        "id": "sD6mKUAakoXR"
      },
      "outputs": [],
      "source": [
        "try:\n",
        "  import os\n",
        "  import psycopg2\n",
        "\n",
        "  import polars as pl\n",
        "  import pandas as pd\n",
        "  import requests\n",
        "\n",
        "  import time\n",
        "  from datetime import datetime\n",
        "\n",
        "  from dotenv import load_dotenv; load_dotenv()\n",
        "except ModuleNotFoundError:\n",
        "  !pip install python-dotenv\n",
        "  from dotenv import load_dotenv; load_dotenv()\n",
        "\n",
        "  print(\"\"\"\n",
        "  Please restart the kernel and upload your .env file if you haven't already.\n",
        "  \"\"\")"
      ]
    },
    {
      "cell_type": "markdown",
      "source": [
        "This code imports essential libraries for managing data, interacting with a PostgreSQL database, handling API requests, and working with time and environment variables. It includes **os** for system operations, **psycopg2** for database connectivity, **polars** and **pandas** for data manipulation, **requests** for HTTP requests, and time and **datetime** for time-related tasks.\n",
        "\n",
        "The **dotenv** library is used to load environment variables securely from a .env file. If `python-dotenv` is not installed, the code installs it using `pip` and prompts the user to restart the kernel and upload the `.env` file to ensure the environment is properly set up."
      ],
      "metadata": {
        "id": "ViNbp7nZcQ7c"
      }
    },
    {
      "cell_type": "markdown",
      "source": [
        "Documentation:\n",
        "*   https://www.psycopg.org/docs/\n",
        "*   https://docs.aws.amazon.com/AmazonRDS/latest/UserGuide/USER_ConnectToPostgreSQLInstance.html\n",
        "*   https://github.com/aws/aws-advanced-python-wrapper\n"
      ],
      "metadata": {
        "id": "_s6-ODuQwkSQ"
      }
    },
    {
      "cell_type": "markdown",
      "source": [
        "## Setting Up PostgreSQL Connection"
      ],
      "metadata": {
        "id": "b3NJkC50uNLm"
      }
    },
    {
      "cell_type": "markdown",
      "source": [
        "This code serves as a configuration setup for establishing a connection to a PostgreSQL database hosted on **Amazon RDS (Relational Database Service).** Each parameter is essential to successfully connect and interact with the database.\n",
        "\n",
        "**Connection Parameters**\n",
        "\n",
        "*   `PGEND_POINT`: The endpoint of the PostgreSQL database to which the connection will be made.\n",
        "\n",
        "*   `PGDATABASE_NAME`: The name of the database within the PostgreSQL server to connect to.\n",
        "\n",
        "*   `PGPORT`: The port through which the database connection will be established.\n",
        "\n",
        "*   `PGUSER_NAME`: The username used to authenticate with the PostgreSQL database.\n",
        "\n",
        "*   `PGPASSWORD`: The password associated with the user account for connecting to the PostgreSQL database."
      ],
      "metadata": {
        "id": "yMDzj6l-cWgK"
      }
    },
    {
      "cell_type": "code",
      "source": [
        "  PGEND_POINT = os.environ[\"PGEND_POINT\"]\n",
        "  PGDATABASE_NAME = os.environ[\"PGDATABASE_NAME\"]\n",
        "  PGPORT = os.environ[\"PGPORT\"]\n",
        "  PGUSER_NAME = os.environ[\"PGUSER_NAME\"]\n",
        "  PGPASSWORD = os.environ[\"PGPASSWORD\"]"
      ],
      "metadata": {
        "id": "I9yP-BjCpqWm"
      },
      "execution_count": null,
      "outputs": []
    },
    {
      "cell_type": "markdown",
      "source": [
        "This code defines a function named `connect()` that establishes a connection to a PostgreSQL database and returns a connection object and a cursor object."
      ],
      "metadata": {
        "id": "IgQtLtWIumrJ"
      }
    },
    {
      "cell_type": "code",
      "source": [
        "def connect():\n",
        "\n",
        "    # Set up a connection to the postgres server.\n",
        "    conn_string = f\"host={PGEND_POINT} port={PGPORT} dbname={PGDATABASE_NAME} user={PGUSER_NAME} password={PGPASSWORD}\"\n",
        "\n",
        "    conn = psycopg2.connect(conn_string)\n",
        "    print(f'{datetime.now().strftime(\"%Y-%m-%d %H:%M:%S\")}\\tConnected!')\n",
        "\n",
        "    # Create a cursor object\n",
        "    cursor = conn.cursor()\n",
        "\n",
        "    return conn, cursor"
      ],
      "metadata": {
        "id": "HyxZVfAol5N9"
      },
      "execution_count": null,
      "outputs": []
    },
    {
      "cell_type": "markdown",
      "source": [
        "The `disconnect()` function to disconnects a connection to a PostgreSQL database. Once disconnected, it will display a message indicating a successful disconnection."
      ],
      "metadata": {
        "id": "6p_3BoM3chA7"
      }
    },
    {
      "cell_type": "code",
      "source": [
        "def disconnect():\n",
        "    conn.close()\n",
        "    print(f'{datetime.now().strftime(\"%Y-%m-%d %H:%M:%S\")}\\tDisconnected.')"
      ],
      "metadata": {
        "id": "Pvsa6an9SHVR"
      },
      "execution_count": null,
      "outputs": []
    },
    {
      "cell_type": "markdown",
      "source": [
        "## Schema"
      ],
      "metadata": {
        "id": "4VLa0hCju6_J"
      }
    },
    {
      "cell_type": "markdown",
      "source": [
        "This schema defines the structure, data types, and constraints for the database.\n",
        "\n",
        "![Schema](https://github.com/iragca/random-uploads/blob/main/DS313/Final%20Project/anime_schema.png?raw=true)"
      ],
      "metadata": {
        "id": "98yFRWubu767"
      }
    },
    {
      "cell_type": "markdown",
      "source": [
        "Attribute descriptions\n",
        "\n",
        "**ANIME**\n",
        "\n",
        "| **Column**         | **Description**                                                                                   |\n",
        "|---------------------|---------------------------------------------------------------------------------------------------|\n",
        "| `id`               | This is the **primary key** for the table, ensuring that each entry is unique and identifiable. It is an integer type that auto-increments with each added anime. |\n",
        "| `genres`           | This column lists the genres of the anime, allowing for categorization based on style, theme, or audience. |\n",
        "| `season`           | Specifies the season in which the anime was released (e.g., **FALL**, **WINTER**, **SPRING**, **SUMMER**). This classification aids in organizing content based on airing times. |\n",
        "| `seasonYear`       | Indicates the year of release for the anime, providing chronological context.                     |\n",
        "| `title.english`    | Holds the title of the anime in **English**, which can be utilized for international audiences and database queries. |\n",
        "| `title.romaji`     | Stores the title in romaji, making it accessible for users who read **Latin** alphabets but may not know Japanese characters. |\n",
        "| `title.native`     | Contains the **original title** of the anime as presented in **Japanese**, maintaining the authenticity of the title. |\n",
        "\n",
        "**REVIEW**\n",
        "\n",
        "| **Column**         | **Description**                                                                                   |\n",
        "|---------------------|---------------------------------------------------------------------------------------------------|\n",
        "| `id`               | This is the **primary key** for the table, ensuring that each entry is unique and identifiable. It is an integer type that auto-increments with each added review. |\n",
        "| `mediaId`           | The media ID for an Anime or Manga.  |\n",
        "| `rating`           | Total number of upvotes of the user's review |\n",
        "| `ratingAmount`       | Total number of upvotes/downvotes of the user's review.                    |\n",
        "| `score`    | Holds the title of the anime in **English**, which can be utilized for international audiences and database queries. |\n",
        "| `body`     | The full body of the user's review. |\n",
        "| `summary`     | A short summary and tagline of the user's review. |\n"
      ],
      "metadata": {
        "id": "5wl3j98UylTm"
      }
    },
    {
      "cell_type": "code",
      "source": [
        "try:\n",
        "  conn, cursor = connect()\n",
        "\n",
        "  cursor.execute(\"\"\"\n",
        "  DROP TABLE IF EXISTS ANIME;\n",
        "  \"\"\")\n",
        "\n",
        "  cursor.execute(\"\"\"\n",
        "  DROP TABLE IF EXISTS REVIEW;\n",
        "  \"\"\")\n",
        "\n",
        "  cursor.execute(\"\"\"\n",
        "  CREATE TABLE ANIME (\n",
        "    id INTEGER,\n",
        "    genres VARCHAR(255),\n",
        "    season VARCHAR(6),\n",
        "    seasonYear INTEGER,\n",
        "    \"title.english\" VARCHAR(512),\n",
        "    \"title.native\" VARCHAR(512),\n",
        "    \"title.romaji\" VARCHAR(512),\n",
        "\n",
        "    PRIMARY KEY (id),\n",
        "    CHECK (season IN ('FALL', 'WINTER', 'SPRING', 'SUMMER'))\n",
        "  );\n",
        "  \"\"\")\n",
        "\n",
        "\n",
        "  cursor.execute(\"\"\"\n",
        "  CREATE TABLE REVIEW (\n",
        "    id INTEGER,\n",
        "    mediaId INTEGER,\n",
        "    rating SMALLINT,\n",
        "    ratingAmount SMALLINT,\n",
        "    score SMALLINT,\n",
        "    body VARCHAR(100000),\n",
        "    summary VARCHAR(1000),\n",
        "\n",
        "    PRIMARY KEY (id)\n",
        "  );\n",
        "  \"\"\")\n",
        "  conn.commit()\n",
        "\n",
        "except InterfaceError as e:\n",
        "  print(e)\n",
        "\n",
        "finally:\n",
        "  disconnect()"
      ],
      "metadata": {
        "id": "Cdptg0R5qBKa",
        "colab": {
          "base_uri": "https://localhost:8080/"
        },
        "outputId": "87f13897-cd6b-4c99-e98f-259eaeae067a"
      },
      "execution_count": null,
      "outputs": [
        {
          "output_type": "stream",
          "name": "stdout",
          "text": [
            "2024-11-23 08:03:56\tConnected!\n",
            "2024-11-23 08:03:57\tDisconnected.\n"
          ]
        }
      ]
    },
    {
      "cell_type": "markdown",
      "source": [
        "The code interacts with a PostgreSQL database to list all tables within the **public** schema. This utilizes the `cursor.execute()` method, which executes an SQL Query that selects the table_name column from the *information_schema.tables* system table, filtering for tables in the **public** schema and ordering them alphabetically. The `cursor.fetchall()` method then retrieves all the results and displays them in in the output."
      ],
      "metadata": {
        "id": "4aUWRtt43cRA"
      }
    },
    {
      "cell_type": "code",
      "source": [
        "try:\n",
        "  conn, cursor = connect()\n",
        "  cursor.execute(\"\"\"\n",
        "      SELECT table_name\n",
        "      FROM information_schema.tables\n",
        "      WHERE table_schema = 'public'  -- To filter tables in the 'public' schema (default)\n",
        "      ORDER BY table_name;\n",
        "  \"\"\")\n",
        "\n",
        "  fetched = cursor.fetchall()\n",
        "  print(fetched)\n",
        "\n",
        "except InterfaceError as e:\n",
        "  print(e)\n",
        "\n",
        "finally:\n",
        "  disconnect()"
      ],
      "metadata": {
        "colab": {
          "base_uri": "https://localhost:8080/"
        },
        "id": "dby9sYBJrJwZ",
        "outputId": "988eeb1d-b52a-4d81-a1e0-bd7e1451e8c7"
      },
      "execution_count": null,
      "outputs": [
        {
          "output_type": "stream",
          "name": "stdout",
          "text": [
            "2024-11-23 08:04:41\tConnected!\n",
            "[('anime',), ('review',)]\n",
            "2024-11-23 08:04:42\tDisconnected.\n"
          ]
        }
      ]
    },
    {
      "cell_type": "markdown",
      "source": [
        "A display all and insert data helper functions."
      ],
      "metadata": {
        "id": "s4llYF6m3dWy"
      }
    },
    {
      "cell_type": "code",
      "source": [
        "def display_all(table: str, conn = conn):\n",
        "    conn, cursor = connect()\n",
        "    display(\n",
        "        pl.read_database(f'SELECT * FROM {table}', conn)\n",
        "    )\n",
        "    disconnect()"
      ],
      "metadata": {
        "id": "LYKx8kWBabmF"
      },
      "execution_count": null,
      "outputs": []
    },
    {
      "cell_type": "code",
      "source": [
        "def insert_data(table: str, data: pd.DataFrame):\n",
        "    try:\n",
        "\n",
        "      conn, cursor = connect()\n",
        "      start_time = time.time()\n",
        "\n",
        "      print(f'{datetime.now().strftime(\"%Y-%m-%d %H:%M:%S\")}\\tInserting...')\n",
        "      vals = '%s, ' * (len(data.columns)-1)\n",
        "      cursor.executemany(f\"INSERT INTO {table} VALUES ({vals}%s)\", list(data.itertuples(index=False, name=None)))\n",
        "      end_time = time.time()\n",
        "      elapsed_time = end_time - start_time\n",
        "      print(f'{datetime.now().strftime(\"%Y-%m-%d %H:%M:%S\")}\\tOperation took {elapsed_time:.4f} seconds.')\n",
        "      conn.commit()\n",
        "\n",
        "    except Exception as e:\n",
        "      conn.rollback()\n",
        "      print(e)\n",
        "      print(f'{datetime.now().strftime(\"%Y-%m-%d %H:%M:%S\")}\\tOperation failed.')\n",
        "\n",
        "    else:\n",
        "      print(f'{datetime.now().strftime(\"%Y-%m-%d %H:%M:%S\")}\\tSuccessful operation.')\n",
        "\n",
        "    finally:\n",
        "      disconnect()"
      ],
      "metadata": {
        "id": "FQfdgT2qrFzk"
      },
      "execution_count": null,
      "outputs": []
    },
    {
      "cell_type": "markdown",
      "source": [
        "\n",
        "## Generate and Insert mock data"
      ],
      "metadata": {
        "id": "GBJ-pPrHx-Hy"
      }
    },
    {
      "cell_type": "markdown",
      "source": [
        "This code imports data from a specified GitHub repository. It reads the data into a pandas DataFrame named mock_data."
      ],
      "metadata": {
        "id": "7X0_Zg63-m5U"
      }
    },
    {
      "cell_type": "code",
      "source": [
        "# mock data from google\n",
        "mock_data = pd.read_csv(\"https://github.com/iragca/random-uploads/raw/refs/heads/main/DS313/Final%20Project/anime.csv\")"
      ],
      "metadata": {
        "id": "4mzj_RX2VBUs"
      },
      "execution_count": null,
      "outputs": []
    },
    {
      "cell_type": "markdown",
      "source": [
        "This code is designed to perform data cleaning operations. First, the season column is converted to uppercase to ensure consistency across the data. Next, only the relevant columns— 'id', 'genres', 'season', 'seasonYear', 'title.english', 'title.native', and 'title.romaji'—are selected for further analysis. Finally, rows containing any missing values are removed using the dropna(axis=0)function."
      ],
      "metadata": {
        "id": "GhwNgVe2-twh"
      }
    },
    {
      "cell_type": "code",
      "source": [
        "# Cleaning data.\n",
        "mock_data['season'] = mock_data['season'].str.upper()\n",
        "mock_data = mock_data[['id', 'genres', 'season', 'seasonYear', 'title.english', 'title.native', 'title.romaji']]\n",
        "mock_data = mock_data.dropna(axis=0)"
      ],
      "metadata": {
        "id": "V4P8aaCjzw9d"
      },
      "execution_count": null,
      "outputs": []
    },
    {
      "cell_type": "code",
      "source": [
        "mock_data.info()"
      ],
      "metadata": {
        "colab": {
          "base_uri": "https://localhost:8080/"
        },
        "id": "ozHN2BO-5R79",
        "outputId": "feb97d9e-9938-4033-d630-d445882d3b1a"
      },
      "execution_count": null,
      "outputs": [
        {
          "output_type": "stream",
          "name": "stdout",
          "text": [
            "<class 'pandas.core.frame.DataFrame'>\n",
            "Index: 7740 entries, 0 to 23992\n",
            "Data columns (total 7 columns):\n",
            " #   Column         Non-Null Count  Dtype \n",
            "---  ------         --------------  ----- \n",
            " 0   id             7740 non-null   int64 \n",
            " 1   genres         7740 non-null   object\n",
            " 2   season         7740 non-null   object\n",
            " 3   seasonYear     7740 non-null   int64 \n",
            " 4   title.english  7740 non-null   object\n",
            " 5   title.native   7740 non-null   object\n",
            " 6   title.romaji   7740 non-null   object\n",
            "dtypes: int64(2), object(5)\n",
            "memory usage: 483.8+ KB\n"
          ]
        }
      ]
    },
    {
      "cell_type": "code",
      "source": [
        "mock_data.head(5)"
      ],
      "metadata": {
        "colab": {
          "base_uri": "https://localhost:8080/",
          "height": 293
        },
        "id": "SqTFt6qZ1MTF",
        "outputId": "52c3867d-cb35-475d-f5c8-4bd097abcffa"
      },
      "execution_count": null,
      "outputs": [
        {
          "output_type": "execute_result",
          "data": {
            "text/plain": [
              "      id                                             genres  season  \\\n",
              "0   5114  ['Action', 'Adventure', 'Drama', 'Fantasy', 'M...  SPRING   \n",
              "1  11061      ['Action', 'Adventure', 'Fantasy', 'Shounen']    FALL   \n",
              "2   9253  ['Drama', 'Psychological', 'Sci-Fi', 'Suspense...  SPRING   \n",
              "3     21      ['Action', 'Adventure', 'Fantasy', 'Shounen']    FALL   \n",
              "4   1535  ['Psychological', 'Shounen', 'Supernatural', '...    FALL   \n",
              "\n",
              "   seasonYear                     title.english                title.native  \\\n",
              "0        2009  Fullmetal Alchemist: Brotherhood  鋼の錬金術師 FULLMETAL ALCHEMIST   \n",
              "1        2011                   Hunter x Hunter    HUNTER×HUNTER（ハンター×ハンター）   \n",
              "2        2011                       Steins;Gate                 STEINS;GATE   \n",
              "3        1999                         One Piece                   ONE PIECE   \n",
              "4        2006                        Death Note                       デスノート   \n",
              "\n",
              "                                        title.romaji  \n",
              "0  ['Hagane no Renkinjutsushi: Fullmetal Alchemis...  \n",
              "1                                     ['HxH (2011)']  \n",
              "2                                                 []  \n",
              "3                                             ['OP']  \n",
              "4                                             ['DN']  "
            ],
            "text/html": [
              "\n",
              "  <div id=\"df-79489ee8-0195-4e30-8efa-191ff29ac639\" class=\"colab-df-container\">\n",
              "    <div>\n",
              "<style scoped>\n",
              "    .dataframe tbody tr th:only-of-type {\n",
              "        vertical-align: middle;\n",
              "    }\n",
              "\n",
              "    .dataframe tbody tr th {\n",
              "        vertical-align: top;\n",
              "    }\n",
              "\n",
              "    .dataframe thead th {\n",
              "        text-align: right;\n",
              "    }\n",
              "</style>\n",
              "<table border=\"1\" class=\"dataframe\">\n",
              "  <thead>\n",
              "    <tr style=\"text-align: right;\">\n",
              "      <th></th>\n",
              "      <th>id</th>\n",
              "      <th>genres</th>\n",
              "      <th>season</th>\n",
              "      <th>seasonYear</th>\n",
              "      <th>title.english</th>\n",
              "      <th>title.native</th>\n",
              "      <th>title.romaji</th>\n",
              "    </tr>\n",
              "  </thead>\n",
              "  <tbody>\n",
              "    <tr>\n",
              "      <th>0</th>\n",
              "      <td>5114</td>\n",
              "      <td>['Action', 'Adventure', 'Drama', 'Fantasy', 'M...</td>\n",
              "      <td>SPRING</td>\n",
              "      <td>2009</td>\n",
              "      <td>Fullmetal Alchemist: Brotherhood</td>\n",
              "      <td>鋼の錬金術師 FULLMETAL ALCHEMIST</td>\n",
              "      <td>['Hagane no Renkinjutsushi: Fullmetal Alchemis...</td>\n",
              "    </tr>\n",
              "    <tr>\n",
              "      <th>1</th>\n",
              "      <td>11061</td>\n",
              "      <td>['Action', 'Adventure', 'Fantasy', 'Shounen']</td>\n",
              "      <td>FALL</td>\n",
              "      <td>2011</td>\n",
              "      <td>Hunter x Hunter</td>\n",
              "      <td>HUNTER×HUNTER（ハンター×ハンター）</td>\n",
              "      <td>['HxH (2011)']</td>\n",
              "    </tr>\n",
              "    <tr>\n",
              "      <th>2</th>\n",
              "      <td>9253</td>\n",
              "      <td>['Drama', 'Psychological', 'Sci-Fi', 'Suspense...</td>\n",
              "      <td>SPRING</td>\n",
              "      <td>2011</td>\n",
              "      <td>Steins;Gate</td>\n",
              "      <td>STEINS;GATE</td>\n",
              "      <td>[]</td>\n",
              "    </tr>\n",
              "    <tr>\n",
              "      <th>3</th>\n",
              "      <td>21</td>\n",
              "      <td>['Action', 'Adventure', 'Fantasy', 'Shounen']</td>\n",
              "      <td>FALL</td>\n",
              "      <td>1999</td>\n",
              "      <td>One Piece</td>\n",
              "      <td>ONE PIECE</td>\n",
              "      <td>['OP']</td>\n",
              "    </tr>\n",
              "    <tr>\n",
              "      <th>4</th>\n",
              "      <td>1535</td>\n",
              "      <td>['Psychological', 'Shounen', 'Supernatural', '...</td>\n",
              "      <td>FALL</td>\n",
              "      <td>2006</td>\n",
              "      <td>Death Note</td>\n",
              "      <td>デスノート</td>\n",
              "      <td>['DN']</td>\n",
              "    </tr>\n",
              "  </tbody>\n",
              "</table>\n",
              "</div>\n",
              "    <div class=\"colab-df-buttons\">\n",
              "\n",
              "  <div class=\"colab-df-container\">\n",
              "    <button class=\"colab-df-convert\" onclick=\"convertToInteractive('df-79489ee8-0195-4e30-8efa-191ff29ac639')\"\n",
              "            title=\"Convert this dataframe to an interactive table.\"\n",
              "            style=\"display:none;\">\n",
              "\n",
              "  <svg xmlns=\"http://www.w3.org/2000/svg\" height=\"24px\" viewBox=\"0 -960 960 960\">\n",
              "    <path d=\"M120-120v-720h720v720H120Zm60-500h600v-160H180v160Zm220 220h160v-160H400v160Zm0 220h160v-160H400v160ZM180-400h160v-160H180v160Zm440 0h160v-160H620v160ZM180-180h160v-160H180v160Zm440 0h160v-160H620v160Z\"/>\n",
              "  </svg>\n",
              "    </button>\n",
              "\n",
              "  <style>\n",
              "    .colab-df-container {\n",
              "      display:flex;\n",
              "      gap: 12px;\n",
              "    }\n",
              "\n",
              "    .colab-df-convert {\n",
              "      background-color: #E8F0FE;\n",
              "      border: none;\n",
              "      border-radius: 50%;\n",
              "      cursor: pointer;\n",
              "      display: none;\n",
              "      fill: #1967D2;\n",
              "      height: 32px;\n",
              "      padding: 0 0 0 0;\n",
              "      width: 32px;\n",
              "    }\n",
              "\n",
              "    .colab-df-convert:hover {\n",
              "      background-color: #E2EBFA;\n",
              "      box-shadow: 0px 1px 2px rgba(60, 64, 67, 0.3), 0px 1px 3px 1px rgba(60, 64, 67, 0.15);\n",
              "      fill: #174EA6;\n",
              "    }\n",
              "\n",
              "    .colab-df-buttons div {\n",
              "      margin-bottom: 4px;\n",
              "    }\n",
              "\n",
              "    [theme=dark] .colab-df-convert {\n",
              "      background-color: #3B4455;\n",
              "      fill: #D2E3FC;\n",
              "    }\n",
              "\n",
              "    [theme=dark] .colab-df-convert:hover {\n",
              "      background-color: #434B5C;\n",
              "      box-shadow: 0px 1px 3px 1px rgba(0, 0, 0, 0.15);\n",
              "      filter: drop-shadow(0px 1px 2px rgba(0, 0, 0, 0.3));\n",
              "      fill: #FFFFFF;\n",
              "    }\n",
              "  </style>\n",
              "\n",
              "    <script>\n",
              "      const buttonEl =\n",
              "        document.querySelector('#df-79489ee8-0195-4e30-8efa-191ff29ac639 button.colab-df-convert');\n",
              "      buttonEl.style.display =\n",
              "        google.colab.kernel.accessAllowed ? 'block' : 'none';\n",
              "\n",
              "      async function convertToInteractive(key) {\n",
              "        const element = document.querySelector('#df-79489ee8-0195-4e30-8efa-191ff29ac639');\n",
              "        const dataTable =\n",
              "          await google.colab.kernel.invokeFunction('convertToInteractive',\n",
              "                                                    [key], {});\n",
              "        if (!dataTable) return;\n",
              "\n",
              "        const docLinkHtml = 'Like what you see? Visit the ' +\n",
              "          '<a target=\"_blank\" href=https://colab.research.google.com/notebooks/data_table.ipynb>data table notebook</a>'\n",
              "          + ' to learn more about interactive tables.';\n",
              "        element.innerHTML = '';\n",
              "        dataTable['output_type'] = 'display_data';\n",
              "        await google.colab.output.renderOutput(dataTable, element);\n",
              "        const docLink = document.createElement('div');\n",
              "        docLink.innerHTML = docLinkHtml;\n",
              "        element.appendChild(docLink);\n",
              "      }\n",
              "    </script>\n",
              "  </div>\n",
              "\n",
              "\n",
              "<div id=\"df-b31e1bfa-03ee-4b96-86e9-c4aa096589b8\">\n",
              "  <button class=\"colab-df-quickchart\" onclick=\"quickchart('df-b31e1bfa-03ee-4b96-86e9-c4aa096589b8')\"\n",
              "            title=\"Suggest charts\"\n",
              "            style=\"display:none;\">\n",
              "\n",
              "<svg xmlns=\"http://www.w3.org/2000/svg\" height=\"24px\"viewBox=\"0 0 24 24\"\n",
              "     width=\"24px\">\n",
              "    <g>\n",
              "        <path d=\"M19 3H5c-1.1 0-2 .9-2 2v14c0 1.1.9 2 2 2h14c1.1 0 2-.9 2-2V5c0-1.1-.9-2-2-2zM9 17H7v-7h2v7zm4 0h-2V7h2v10zm4 0h-2v-4h2v4z\"/>\n",
              "    </g>\n",
              "</svg>\n",
              "  </button>\n",
              "\n",
              "<style>\n",
              "  .colab-df-quickchart {\n",
              "      --bg-color: #E8F0FE;\n",
              "      --fill-color: #1967D2;\n",
              "      --hover-bg-color: #E2EBFA;\n",
              "      --hover-fill-color: #174EA6;\n",
              "      --disabled-fill-color: #AAA;\n",
              "      --disabled-bg-color: #DDD;\n",
              "  }\n",
              "\n",
              "  [theme=dark] .colab-df-quickchart {\n",
              "      --bg-color: #3B4455;\n",
              "      --fill-color: #D2E3FC;\n",
              "      --hover-bg-color: #434B5C;\n",
              "      --hover-fill-color: #FFFFFF;\n",
              "      --disabled-bg-color: #3B4455;\n",
              "      --disabled-fill-color: #666;\n",
              "  }\n",
              "\n",
              "  .colab-df-quickchart {\n",
              "    background-color: var(--bg-color);\n",
              "    border: none;\n",
              "    border-radius: 50%;\n",
              "    cursor: pointer;\n",
              "    display: none;\n",
              "    fill: var(--fill-color);\n",
              "    height: 32px;\n",
              "    padding: 0;\n",
              "    width: 32px;\n",
              "  }\n",
              "\n",
              "  .colab-df-quickchart:hover {\n",
              "    background-color: var(--hover-bg-color);\n",
              "    box-shadow: 0 1px 2px rgba(60, 64, 67, 0.3), 0 1px 3px 1px rgba(60, 64, 67, 0.15);\n",
              "    fill: var(--button-hover-fill-color);\n",
              "  }\n",
              "\n",
              "  .colab-df-quickchart-complete:disabled,\n",
              "  .colab-df-quickchart-complete:disabled:hover {\n",
              "    background-color: var(--disabled-bg-color);\n",
              "    fill: var(--disabled-fill-color);\n",
              "    box-shadow: none;\n",
              "  }\n",
              "\n",
              "  .colab-df-spinner {\n",
              "    border: 2px solid var(--fill-color);\n",
              "    border-color: transparent;\n",
              "    border-bottom-color: var(--fill-color);\n",
              "    animation:\n",
              "      spin 1s steps(1) infinite;\n",
              "  }\n",
              "\n",
              "  @keyframes spin {\n",
              "    0% {\n",
              "      border-color: transparent;\n",
              "      border-bottom-color: var(--fill-color);\n",
              "      border-left-color: var(--fill-color);\n",
              "    }\n",
              "    20% {\n",
              "      border-color: transparent;\n",
              "      border-left-color: var(--fill-color);\n",
              "      border-top-color: var(--fill-color);\n",
              "    }\n",
              "    30% {\n",
              "      border-color: transparent;\n",
              "      border-left-color: var(--fill-color);\n",
              "      border-top-color: var(--fill-color);\n",
              "      border-right-color: var(--fill-color);\n",
              "    }\n",
              "    40% {\n",
              "      border-color: transparent;\n",
              "      border-right-color: var(--fill-color);\n",
              "      border-top-color: var(--fill-color);\n",
              "    }\n",
              "    60% {\n",
              "      border-color: transparent;\n",
              "      border-right-color: var(--fill-color);\n",
              "    }\n",
              "    80% {\n",
              "      border-color: transparent;\n",
              "      border-right-color: var(--fill-color);\n",
              "      border-bottom-color: var(--fill-color);\n",
              "    }\n",
              "    90% {\n",
              "      border-color: transparent;\n",
              "      border-bottom-color: var(--fill-color);\n",
              "    }\n",
              "  }\n",
              "</style>\n",
              "\n",
              "  <script>\n",
              "    async function quickchart(key) {\n",
              "      const quickchartButtonEl =\n",
              "        document.querySelector('#' + key + ' button');\n",
              "      quickchartButtonEl.disabled = true;  // To prevent multiple clicks.\n",
              "      quickchartButtonEl.classList.add('colab-df-spinner');\n",
              "      try {\n",
              "        const charts = await google.colab.kernel.invokeFunction(\n",
              "            'suggestCharts', [key], {});\n",
              "      } catch (error) {\n",
              "        console.error('Error during call to suggestCharts:', error);\n",
              "      }\n",
              "      quickchartButtonEl.classList.remove('colab-df-spinner');\n",
              "      quickchartButtonEl.classList.add('colab-df-quickchart-complete');\n",
              "    }\n",
              "    (() => {\n",
              "      let quickchartButtonEl =\n",
              "        document.querySelector('#df-b31e1bfa-03ee-4b96-86e9-c4aa096589b8 button');\n",
              "      quickchartButtonEl.style.display =\n",
              "        google.colab.kernel.accessAllowed ? 'block' : 'none';\n",
              "    })();\n",
              "  </script>\n",
              "</div>\n",
              "\n",
              "    </div>\n",
              "  </div>\n"
            ],
            "application/vnd.google.colaboratory.intrinsic+json": {
              "type": "dataframe",
              "variable_name": "mock_data",
              "summary": "{\n  \"name\": \"mock_data\",\n  \"rows\": 7740,\n  \"fields\": [\n    {\n      \"column\": \"id\",\n      \"properties\": {\n        \"dtype\": \"number\",\n        \"std\": 17125,\n        \"min\": 1,\n        \"max\": 52100,\n        \"num_unique_values\": 7740,\n        \"samples\": [\n          44012,\n          41930,\n          23209\n        ],\n        \"semantic_type\": \"\",\n        \"description\": \"\"\n      }\n    },\n    {\n      \"column\": \"genres\",\n      \"properties\": {\n        \"dtype\": \"category\",\n        \"num_unique_values\": 3144,\n        \"samples\": [\n          \"['Adventure', 'Horror', 'Psychological', 'Seinen', 'Supernatural']\",\n          \"['Avant Garde', 'Ecchi', 'Music']\",\n          \"['Comedy', 'Fantasy', 'Isekai', 'Reincarnation']\"\n        ],\n        \"semantic_type\": \"\",\n        \"description\": \"\"\n      }\n    },\n    {\n      \"column\": \"season\",\n      \"properties\": {\n        \"dtype\": \"category\",\n        \"num_unique_values\": 4,\n        \"samples\": [\n          \"FALL\",\n          \"SUMMER\",\n          \"SPRING\"\n        ],\n        \"semantic_type\": \"\",\n        \"description\": \"\"\n      }\n    },\n    {\n      \"column\": \"seasonYear\",\n      \"properties\": {\n        \"dtype\": \"number\",\n        \"std\": 12,\n        \"min\": 1917,\n        \"max\": 2023,\n        \"num_unique_values\": 85,\n        \"samples\": [\n          1935,\n          2009,\n          1966\n        ],\n        \"semantic_type\": \"\",\n        \"description\": \"\"\n      }\n    },\n    {\n      \"column\": \"title.english\",\n      \"properties\": {\n        \"dtype\": \"string\",\n        \"num_unique_values\": 7588,\n        \"samples\": [\n          \"Doraemon the Movie: Nobita and the Kingdom of Clouds\",\n          \"Power Battle Watch Car: Return of the Watch Mask\",\n          \"Zetman\"\n        ],\n        \"semantic_type\": \"\",\n        \"description\": \"\"\n      }\n    },\n    {\n      \"column\": \"title.native\",\n      \"properties\": {\n        \"dtype\": \"string\",\n        \"num_unique_values\": 7494,\n        \"samples\": [\n          \"\\u30df\\u30b9\\u30bf\\u30fc\\u30fb\\u30dc\\u30f3\\u30c9\",\n          \"\\u7121\\u4eba\\u5cf6\\u7269\\u8a9e\\uff38\",\n          \"\\u4efb\\u52a1\\u5927\\u5e08\"\n        ],\n        \"semantic_type\": \"\",\n        \"description\": \"\"\n      }\n    },\n    {\n      \"column\": \"title.romaji\",\n      \"properties\": {\n        \"dtype\": \"string\",\n        \"num_unique_values\": 4671,\n        \"samples\": [\n          \"['Digimon tri. 3']\",\n          \"['Kasumin 1st Series']\",\n          \"['Night of Taneyamagahara']\"\n        ],\n        \"semantic_type\": \"\",\n        \"description\": \"\"\n      }\n    }\n  ]\n}"
            }
          },
          "metadata": {},
          "execution_count": 12
        }
      ]
    },
    {
      "cell_type": "markdown",
      "source": [
        "The following code inserts a random sample of 20 rows from the mock_data DataFrame into a table named \"ANIME\" in a database. First it connects to the database, inserts the data, and then disconnects."
      ],
      "metadata": {
        "id": "SuxWYfp8_soe"
      }
    },
    {
      "cell_type": "code",
      "source": [
        "insert_data(table='ANIME', data=mock_data.sample(20))"
      ],
      "metadata": {
        "colab": {
          "base_uri": "https://localhost:8080/"
        },
        "id": "ytO-ukVvqsRl",
        "outputId": "e604f309-ccbf-42c1-8656-cf90f9e5f790"
      },
      "execution_count": null,
      "outputs": [
        {
          "output_type": "stream",
          "name": "stdout",
          "text": [
            "2024-11-23 08:05:22\tConnected!\n",
            "2024-11-23 08:05:22\tInserting...\n",
            "2024-11-23 08:05:26\tOperation took 4.4675 seconds.\n",
            "2024-11-23 08:05:27\tSuccessful operation.\n",
            "2024-11-23 08:05:27\tDisconnected.\n"
          ]
        }
      ]
    },
    {
      "cell_type": "code",
      "source": [
        "display_all(\"ANIME\")"
      ],
      "metadata": {
        "colab": {
          "base_uri": "https://localhost:8080/",
          "height": 582
        },
        "id": "easgYY201gpb",
        "outputId": "801f21a9-2c13-42db-dd57-1a234df77153"
      },
      "execution_count": null,
      "outputs": [
        {
          "output_type": "stream",
          "name": "stdout",
          "text": [
            "2024-11-23 08:05:51\tConnected!\n"
          ]
        },
        {
          "output_type": "display_data",
          "data": {
            "text/plain": [
              "shape: (20, 7)\n",
              "┌───────┬─────────────────┬────────┬────────────┬────────────────┬────────────────┬────────────────┐\n",
              "│ id    ┆ genres          ┆ season ┆ seasonyear ┆ title.english  ┆ title.native   ┆ title.romaji   │\n",
              "│ ---   ┆ ---             ┆ ---    ┆ ---        ┆ ---            ┆ ---            ┆ ---            │\n",
              "│ i64   ┆ str             ┆ str    ┆ i64        ┆ str            ┆ str            ┆ str            │\n",
              "╞═══════╪═════════════════╪════════╪════════════╪════════════════╪════════════════╪════════════════╡\n",
              "│ 5774  ┆ ['Boys Love',   ┆ FALL   ┆ 2009       ┆ Hey, Class     ┆ 生徒会長に忠告 ┆ ['Hey Class    │\n",
              "│       ┆ 'Comedy',       ┆        ┆            ┆ President!     ┆                ┆ President',    │\n",
              "│       ┆ 'Drama…         ┆        ┆            ┆                ┆                ┆ 'High-…        │\n",
              "│ 3060  ┆ ['Action',      ┆ FALL   ┆ 1983       ┆ Dallos         ┆ ダロス         ┆ ['Darosu',     │\n",
              "│       ┆ 'Mecha',        ┆        ┆            ┆                ┆                ┆ 'Battle for    │\n",
              "│       ┆ 'Sci-Fi']       ┆        ┆            ┆                ┆                ┆ Moon St…       │\n",
              "│ 3104  ┆ ['Action',      ┆ FALL   ┆ 2001       ┆ Geisters:      ┆ ガイスターズ   ┆ ['Guystars:    │\n",
              "│       ┆ 'Military',     ┆        ┆            ┆ Fractions of   ┆ FRACTIONS OF   ┆ Fractions of   │\n",
              "│       ┆ 'Sci-Fi…        ┆        ┆            ┆ the Ear…       ┆ THE EARTH      ┆ the E…         │\n",
              "│ 3372  ┆ ['Adventure']   ┆ FALL   ┆ 2006       ┆ RGB Adventure  ┆ RGBアドベンチ  ┆ []             │\n",
              "│       ┆                 ┆        ┆            ┆                ┆ ャ             ┆                │\n",
              "│ 42627 ┆ ['Fantasy',     ┆ SUMMER ┆ 2021       ┆ Peach Boy      ┆ ピーチボーイリ ┆ []             │\n",
              "│       ┆ 'Shounen']      ┆        ┆            ┆ Riverside      ┆ バーサイド     ┆                │\n",
              "│ …     ┆ …               ┆ …      ┆ …          ┆ …              ┆ …              ┆ …              │\n",
              "│ 4508  ┆ ['Comedy',      ┆ FALL   ┆ 2005       ┆ D.C.S.S: Da    ┆ D.C.           ┆ ['D.C.S.G.     │\n",
              "│       ┆ 'Harem',        ┆        ┆            ┆ Capo Second    ┆ ～ダ・カーポ～ ┆ Omake', 'Da    │\n",
              "│       ┆ 'Romance']      ┆        ┆            ┆ Season…        ┆ セコンドシース ┆ Capo 2n…       │\n",
              "│       ┆                 ┆        ┆            ┆                ┆ ン Omake       ┆                │\n",
              "│ 34102 ┆ ['Mystery',     ┆ SPRING ┆ 2017       ┆ Sagrada Reset  ┆ サクラダリセッ ┆ []             │\n",
              "│       ┆ 'School',       ┆        ┆            ┆                ┆ ト             ┆                │\n",
              "│       ┆ 'Super P…       ┆        ┆            ┆                ┆                ┆                │\n",
              "│ 51050 ┆ ['Music',       ┆ WINTER ┆ 2020       ┆ Saturn         ┆ サターン       ┆ []             │\n",
              "│       ┆ 'Space']        ┆        ┆            ┆                ┆                ┆                │\n",
              "│ 1740  ┆ ['Action',      ┆ SUMMER ┆ 2006       ┆ Government     ┆ 内閣権力犯罪強 ┆ ['Naikaku      │\n",
              "│       ┆ 'Detective',    ┆        ┆            ┆ Crime          ┆ 制取締官・財前 ┆ Kenryoku       │\n",
              "│       ┆ 'Drama…         ┆        ┆            ┆ Investigation… ┆ 丈太郎         ┆ Hanzai Kyos…   │\n",
              "│ 405   ┆ ['Gore',        ┆ FALL   ┆ 2000       ┆ Blood: The     ┆ BLOOD THE LAST ┆ []             │\n",
              "│       ┆ 'Horror',       ┆        ┆            ┆ Last Vampire   ┆ VAMPIRE        ┆                │\n",
              "│       ┆ 'Supernatur…    ┆        ┆            ┆                ┆ (ブラッド ザ…  ┆                │\n",
              "└───────┴─────────────────┴────────┴────────────┴────────────────┴────────────────┴────────────────┘"
            ],
            "text/html": [
              "<div><style>\n",
              ".dataframe > thead > tr,\n",
              ".dataframe > tbody > tr {\n",
              "  text-align: right;\n",
              "  white-space: pre-wrap;\n",
              "}\n",
              "</style>\n",
              "<small>shape: (20, 7)</small><table border=\"1\" class=\"dataframe\"><thead><tr><th>id</th><th>genres</th><th>season</th><th>seasonyear</th><th>title.english</th><th>title.native</th><th>title.romaji</th></tr><tr><td>i64</td><td>str</td><td>str</td><td>i64</td><td>str</td><td>str</td><td>str</td></tr></thead><tbody><tr><td>5774</td><td>&quot;[&#x27;Boys Love&#x27;, &#x27;Comedy&#x27;, &#x27;Drama…</td><td>&quot;FALL&quot;</td><td>2009</td><td>&quot;Hey, Class President!&quot;</td><td>&quot;生徒会長に忠告&quot;</td><td>&quot;[&#x27;Hey Class President&#x27;, &#x27;High-…</td></tr><tr><td>3060</td><td>&quot;[&#x27;Action&#x27;, &#x27;Mecha&#x27;, &#x27;Sci-Fi&#x27;]&quot;</td><td>&quot;FALL&quot;</td><td>1983</td><td>&quot;Dallos&quot;</td><td>&quot;ダロス&quot;</td><td>&quot;[&#x27;Darosu&#x27;, &#x27;Battle for Moon St…</td></tr><tr><td>3104</td><td>&quot;[&#x27;Action&#x27;, &#x27;Military&#x27;, &#x27;Sci-Fi…</td><td>&quot;FALL&quot;</td><td>2001</td><td>&quot;Geisters: Fractions of the Ear…</td><td>&quot;ガイスターズ FRACTIONS OF THE EARTH&quot;</td><td>&quot;[&#x27;Guystars: Fractions of the E…</td></tr><tr><td>3372</td><td>&quot;[&#x27;Adventure&#x27;]&quot;</td><td>&quot;FALL&quot;</td><td>2006</td><td>&quot;RGB Adventure&quot;</td><td>&quot;RGBアドベンチャ&quot;</td><td>&quot;[]&quot;</td></tr><tr><td>42627</td><td>&quot;[&#x27;Fantasy&#x27;, &#x27;Shounen&#x27;]&quot;</td><td>&quot;SUMMER&quot;</td><td>2021</td><td>&quot;Peach Boy Riverside&quot;</td><td>&quot;ピーチボーイリバーサイド&quot;</td><td>&quot;[]&quot;</td></tr><tr><td>&hellip;</td><td>&hellip;</td><td>&hellip;</td><td>&hellip;</td><td>&hellip;</td><td>&hellip;</td><td>&hellip;</td></tr><tr><td>4508</td><td>&quot;[&#x27;Comedy&#x27;, &#x27;Harem&#x27;, &#x27;Romance&#x27;]&quot;</td><td>&quot;FALL&quot;</td><td>2005</td><td>&quot;D.C.S.S: Da Capo Second Season…</td><td>&quot;D.C. ～ダ・カーポ～ セコンドシースン Omake&quot;</td><td>&quot;[&#x27;D.C.S.G. Omake&#x27;, &#x27;Da Capo 2n…</td></tr><tr><td>34102</td><td>&quot;[&#x27;Mystery&#x27;, &#x27;School&#x27;, &#x27;Super P…</td><td>&quot;SPRING&quot;</td><td>2017</td><td>&quot;Sagrada Reset&quot;</td><td>&quot;サクラダリセット&quot;</td><td>&quot;[]&quot;</td></tr><tr><td>51050</td><td>&quot;[&#x27;Music&#x27;, &#x27;Space&#x27;]&quot;</td><td>&quot;WINTER&quot;</td><td>2020</td><td>&quot;Saturn&quot;</td><td>&quot;サターン&quot;</td><td>&quot;[]&quot;</td></tr><tr><td>1740</td><td>&quot;[&#x27;Action&#x27;, &#x27;Detective&#x27;, &#x27;Drama…</td><td>&quot;SUMMER&quot;</td><td>2006</td><td>&quot;Government Crime Investigation…</td><td>&quot;内閣権力犯罪強制取締官・財前丈太郎&quot;</td><td>&quot;[&#x27;Naikaku Kenryoku Hanzai Kyos…</td></tr><tr><td>405</td><td>&quot;[&#x27;Gore&#x27;, &#x27;Horror&#x27;, &#x27;Supernatur…</td><td>&quot;FALL&quot;</td><td>2000</td><td>&quot;Blood: The Last Vampire&quot;</td><td>&quot;BLOOD THE LAST VAMPIRE (ブラッド ザ…</td><td>&quot;[]&quot;</td></tr></tbody></table></div>"
            ]
          },
          "metadata": {}
        },
        {
          "output_type": "stream",
          "name": "stdout",
          "text": [
            "2024-11-23 08:05:52\tDisconnected.\n"
          ]
        }
      ]
    },
    {
      "cell_type": "markdown",
      "source": [
        "\n",
        "## Fetch and Store Data"
      ],
      "metadata": {
        "id": "_YBoicUN5tJV"
      }
    },
    {
      "cell_type": "markdown",
      "source": [
        "Removing all the mock data in the table."
      ],
      "metadata": {
        "id": "ND7YogWw6dGJ"
      }
    },
    {
      "cell_type": "code",
      "source": [
        "try:\n",
        "  conn, cursor = connect()\n",
        "  cursor.execute(\"\"\"\n",
        "  TRUNCATE TABLE ANIME;\n",
        "  \"\"\")\n",
        "  conn.commit()\n",
        "except Exception as e:\n",
        "  print(e)\n",
        "finally:\n",
        "  disconnect()"
      ],
      "metadata": {
        "colab": {
          "base_uri": "https://localhost:8080/"
        },
        "id": "6KklYyoC6L5f",
        "outputId": "94a28a26-f403-4bf5-c31e-d9f49c845330"
      },
      "execution_count": null,
      "outputs": [
        {
          "output_type": "stream",
          "name": "stdout",
          "text": [
            "2024-11-23 08:06:06\tConnected!\n",
            "2024-11-23 08:06:07\tDisconnected.\n"
          ]
        }
      ]
    },
    {
      "cell_type": "code",
      "source": [
        "display_all(\"ANIME\")"
      ],
      "metadata": {
        "colab": {
          "base_uri": "https://localhost:8080/",
          "height": 133
        },
        "id": "gRxo-AKPAvqT",
        "outputId": "b3dd76f6-6997-4b28-fa34-1baf4aa5d5bd"
      },
      "execution_count": null,
      "outputs": [
        {
          "output_type": "stream",
          "name": "stdout",
          "text": [
            "2024-11-23 08:06:25\tConnected!\n"
          ]
        },
        {
          "output_type": "display_data",
          "data": {
            "text/plain": [
              "shape: (0, 7)\n",
              "┌──────┬────────┬────────┬────────────┬───────────────┬──────────────┬──────────────┐\n",
              "│ id   ┆ genres ┆ season ┆ seasonyear ┆ title.english ┆ title.native ┆ title.romaji │\n",
              "│ ---  ┆ ---    ┆ ---    ┆ ---        ┆ ---           ┆ ---          ┆ ---          │\n",
              "│ null ┆ null   ┆ null   ┆ null       ┆ null          ┆ null         ┆ null         │\n",
              "╞══════╪════════╪════════╪════════════╪═══════════════╪══════════════╪══════════════╡\n",
              "└──────┴────────┴────────┴────────────┴───────────────┴──────────────┴──────────────┘"
            ],
            "text/html": [
              "<div><style>\n",
              ".dataframe > thead > tr,\n",
              ".dataframe > tbody > tr {\n",
              "  text-align: right;\n",
              "  white-space: pre-wrap;\n",
              "}\n",
              "</style>\n",
              "<small>shape: (0, 7)</small><table border=\"1\" class=\"dataframe\"><thead><tr><th>id</th><th>genres</th><th>season</th><th>seasonyear</th><th>title.english</th><th>title.native</th><th>title.romaji</th></tr><tr><td>null</td><td>null</td><td>null</td><td>null</td><td>null</td><td>null</td><td>null</td></tr></thead><tbody></tbody></table></div>"
            ]
          },
          "metadata": {}
        },
        {
          "output_type": "stream",
          "name": "stdout",
          "text": [
            "2024-11-23 08:06:25\tDisconnected.\n"
          ]
        }
      ]
    },
    {
      "cell_type": "markdown",
      "source": [
        "This code fetches anime data from the **Anilist API** using a **GraphQL query,** it specifies the desired season, year, page number, and items per page. The fetched data is then processes using the pandas library to turn it into a DataFrame, which makes it easier to analyze and manipulate. This allows for efficient and structured retriveal of anime information from the API."
      ],
      "metadata": {
        "id": "aiwG72Pz31a7"
      }
    },
    {
      "cell_type": "markdown",
      "source": [
        "Fetching the data from the AniList database through their API"
      ],
      "metadata": {
        "id": "F1pCR1XJBECn"
      }
    },
    {
      "cell_type": "code",
      "source": [
        "query = '''\n",
        "query ExampleQuery($page: Int, $perPage: Int, $season: MediaSeason, $seasonYear: Int, $sort: [ReviewSort], $type: MediaType) {\n",
        "      Page (page: $page, perPage: $perPage) {\n",
        "        pageInfo {\n",
        "          currentPage\n",
        "          hasNextPage\n",
        "          perPage\n",
        "        }\n",
        "\n",
        "      media(season: $season, seasonYear: $seasonYear, type: $type) {\n",
        "          id\n",
        "          title {\n",
        "            english\n",
        "            native\n",
        "            romaji\n",
        "          }\n",
        "          genres\n",
        "          season\n",
        "          seasonYear\n",
        "        reviews(sort: $sort) {\n",
        "          edges {\n",
        "            node {\n",
        "              id\n",
        "              mediaId\n",
        "              rating\n",
        "              ratingAmount\n",
        "              score\n",
        "              body\n",
        "              summary\n",
        "            }\n",
        "          }\n",
        "        }\n",
        "      }\n",
        "      }\n",
        "}\n",
        "'''"
      ],
      "metadata": {
        "id": "B3upoX5-6UDy"
      },
      "execution_count": null,
      "outputs": []
    },
    {
      "cell_type": "markdown",
      "source": [
        "The rate limit for the AniList API is 30 requests per minute, with a maximum of 50 items retrieved per page. So we will do our best effort to get all the data in multiple pages and concatenate them into one pandas dataframe.\n",
        "\n",
        "```python\n",
        "'perPage': 300\n",
        "```\n",
        "\n",
        "Notice the no. of items retrieved per page is capped at 50 and the 300 items to retrieve per page request parameter is ignored."
      ],
      "metadata": {
        "id": "nXFu6-1TCDNe"
      }
    },
    {
      "cell_type": "code",
      "source": [
        "url = 'https://graphql.anilist.co'\n",
        "data = []\n",
        "anime_data = pd.DataFrame()\n",
        "\n",
        "try:\n",
        "  for i in range(1, 5): # max range is 30\n",
        "    variables = {\n",
        "      \"page\": i,\n",
        "      \"perPage\": 300, # max retrieved is 50\n",
        "      \"seasonYear\": 2024,\n",
        "      \"season\": \"FALL\",\n",
        "      \"sort\": \"ID\",\n",
        "      \"type\": \"ANIME\",\n",
        "    }\n",
        "    response = requests.post(url, json={'query': query, 'variables': variables})\n",
        "    response_data = response.json()\n",
        "    data.append(pd.json_normalize(response_data['data']['Page']['media']))\n",
        "\n",
        "  anime_data = pd.concat(data, axis=0)\n",
        "\n",
        "except Exception as e:\n",
        "  print(response.json()['errors'])"
      ],
      "metadata": {
        "id": "CbseRSpc9IOy"
      },
      "execution_count": null,
      "outputs": []
    },
    {
      "cell_type": "code",
      "source": [
        "anime_data"
      ],
      "metadata": {
        "colab": {
          "base_uri": "https://localhost:8080/",
          "height": 545
        },
        "id": "qJ-t9wwgrCJ1",
        "outputId": "f1038a00-a644-4914-a2ff-d3ae23bf9274"
      },
      "execution_count": null,
      "outputs": [
        {
          "output_type": "execute_result",
          "data": {
            "text/plain": [
              "        id                                  genres season  seasonYear  \\\n",
              "0   107372                               [Fantasy]   FALL        2024   \n",
              "1   111314  [Drama, Horror, Mystery, Supernatural]   FALL        2024   \n",
              "2   138522                [Action, Drama, Fantasy]   FALL        2024   \n",
              "3   141182       [Action, Drama, Fantasy, Romance]   FALL        2024   \n",
              "4   150930                       [Comedy, Romance]   FALL        2024   \n",
              "..     ...                                     ...    ...         ...   \n",
              "7   183473                                [Comedy]   FALL        2024   \n",
              "8   183651                         [Mecha, Sci-Fi]   FALL        2024   \n",
              "9   184099                                [Horror]   FALL        2024   \n",
              "10  184288                                [Comedy]   FALL        2024   \n",
              "11  184694            [Action, Adventure, Fantasy]   FALL        2024   \n",
              "\n",
              "                                     title.english  \\\n",
              "0   The Stories of Girls Who Couldn't Be Magicians   \n",
              "1                                             None   \n",
              "2                                             None   \n",
              "3      Seirei Gensouki: Spirit Chronicles Season 2   \n",
              "4                                    Murai In Love   \n",
              "..                                             ...   \n",
              "7                                             None   \n",
              "8                                             None   \n",
              "9                                             None   \n",
              "10                                            None   \n",
              "11                     Solo Leveling -ReAwakening-   \n",
              "\n",
              "                  title.native  \\\n",
              "0            魔法使いになれなかった女の子の話。   \n",
              "1                         うずまき   \n",
              "2   Thunderbolt Fantasy 東離劍遊紀4   \n",
              "3                       精霊幻想記2   \n",
              "4                         村井の恋   \n",
              "..                         ...   \n",
              "7                     ぬいストーリー2   \n",
              "8       機動戦士ガンダム ALC ENCOUNTER   \n",
              "9                   Agent Blue   \n",
              "10          カズヒホとマリーのようこそキッチン。   \n",
              "11   俺だけレベルアップな件 -ReAwakening-   \n",
              "\n",
              "                                       title.romaji  \\\n",
              "0   Mahoutsukai ni Narenakatta Onnanoko no Hanashi.   \n",
              "1                                           Uzumaki   \n",
              "2             Thunderbolt Fantasy: Touriken Yuuki 4   \n",
              "3                                 Seirei Gensouki 2   \n",
              "4                                      Murai no Koi   \n",
              "..                                              ...   \n",
              "7                                       Nui Story 2   \n",
              "8                Kidou Senshi Gundam ALC ENCOUNTER    \n",
              "9                                        Agent Blue   \n",
              "10            Kazuhiho to Marie no Youkoso Kitchen.   \n",
              "11            Ore dake Level Up na Ken: ReAwakening   \n",
              "\n",
              "                                        reviews.edges  \n",
              "0                                                  []  \n",
              "1   [{'node': {'id': 25845, 'mediaId': 111314, 'ra...  \n",
              "2                                                  []  \n",
              "3                                                  []  \n",
              "4                                                  []  \n",
              "..                                                ...  \n",
              "7                                                  []  \n",
              "8                                                  []  \n",
              "9                                                  []  \n",
              "10                                                 []  \n",
              "11                                                 []  \n",
              "\n",
              "[112 rows x 8 columns]"
            ],
            "text/html": [
              "\n",
              "  <div id=\"df-5c636d31-3252-4df8-badf-1c0705e71440\" class=\"colab-df-container\">\n",
              "    <div>\n",
              "<style scoped>\n",
              "    .dataframe tbody tr th:only-of-type {\n",
              "        vertical-align: middle;\n",
              "    }\n",
              "\n",
              "    .dataframe tbody tr th {\n",
              "        vertical-align: top;\n",
              "    }\n",
              "\n",
              "    .dataframe thead th {\n",
              "        text-align: right;\n",
              "    }\n",
              "</style>\n",
              "<table border=\"1\" class=\"dataframe\">\n",
              "  <thead>\n",
              "    <tr style=\"text-align: right;\">\n",
              "      <th></th>\n",
              "      <th>id</th>\n",
              "      <th>genres</th>\n",
              "      <th>season</th>\n",
              "      <th>seasonYear</th>\n",
              "      <th>title.english</th>\n",
              "      <th>title.native</th>\n",
              "      <th>title.romaji</th>\n",
              "      <th>reviews.edges</th>\n",
              "    </tr>\n",
              "  </thead>\n",
              "  <tbody>\n",
              "    <tr>\n",
              "      <th>0</th>\n",
              "      <td>107372</td>\n",
              "      <td>[Fantasy]</td>\n",
              "      <td>FALL</td>\n",
              "      <td>2024</td>\n",
              "      <td>The Stories of Girls Who Couldn't Be Magicians</td>\n",
              "      <td>魔法使いになれなかった女の子の話。</td>\n",
              "      <td>Mahoutsukai ni Narenakatta Onnanoko no Hanashi.</td>\n",
              "      <td>[]</td>\n",
              "    </tr>\n",
              "    <tr>\n",
              "      <th>1</th>\n",
              "      <td>111314</td>\n",
              "      <td>[Drama, Horror, Mystery, Supernatural]</td>\n",
              "      <td>FALL</td>\n",
              "      <td>2024</td>\n",
              "      <td>None</td>\n",
              "      <td>うずまき</td>\n",
              "      <td>Uzumaki</td>\n",
              "      <td>[{'node': {'id': 25845, 'mediaId': 111314, 'ra...</td>\n",
              "    </tr>\n",
              "    <tr>\n",
              "      <th>2</th>\n",
              "      <td>138522</td>\n",
              "      <td>[Action, Drama, Fantasy]</td>\n",
              "      <td>FALL</td>\n",
              "      <td>2024</td>\n",
              "      <td>None</td>\n",
              "      <td>Thunderbolt Fantasy 東離劍遊紀4</td>\n",
              "      <td>Thunderbolt Fantasy: Touriken Yuuki 4</td>\n",
              "      <td>[]</td>\n",
              "    </tr>\n",
              "    <tr>\n",
              "      <th>3</th>\n",
              "      <td>141182</td>\n",
              "      <td>[Action, Drama, Fantasy, Romance]</td>\n",
              "      <td>FALL</td>\n",
              "      <td>2024</td>\n",
              "      <td>Seirei Gensouki: Spirit Chronicles Season 2</td>\n",
              "      <td>精霊幻想記2</td>\n",
              "      <td>Seirei Gensouki 2</td>\n",
              "      <td>[]</td>\n",
              "    </tr>\n",
              "    <tr>\n",
              "      <th>4</th>\n",
              "      <td>150930</td>\n",
              "      <td>[Comedy, Romance]</td>\n",
              "      <td>FALL</td>\n",
              "      <td>2024</td>\n",
              "      <td>Murai In Love</td>\n",
              "      <td>村井の恋</td>\n",
              "      <td>Murai no Koi</td>\n",
              "      <td>[]</td>\n",
              "    </tr>\n",
              "    <tr>\n",
              "      <th>...</th>\n",
              "      <td>...</td>\n",
              "      <td>...</td>\n",
              "      <td>...</td>\n",
              "      <td>...</td>\n",
              "      <td>...</td>\n",
              "      <td>...</td>\n",
              "      <td>...</td>\n",
              "      <td>...</td>\n",
              "    </tr>\n",
              "    <tr>\n",
              "      <th>7</th>\n",
              "      <td>183473</td>\n",
              "      <td>[Comedy]</td>\n",
              "      <td>FALL</td>\n",
              "      <td>2024</td>\n",
              "      <td>None</td>\n",
              "      <td>ぬいストーリー2</td>\n",
              "      <td>Nui Story 2</td>\n",
              "      <td>[]</td>\n",
              "    </tr>\n",
              "    <tr>\n",
              "      <th>8</th>\n",
              "      <td>183651</td>\n",
              "      <td>[Mecha, Sci-Fi]</td>\n",
              "      <td>FALL</td>\n",
              "      <td>2024</td>\n",
              "      <td>None</td>\n",
              "      <td>機動戦士ガンダム ALC ENCOUNTER</td>\n",
              "      <td>Kidou Senshi Gundam ALC ENCOUNTER</td>\n",
              "      <td>[]</td>\n",
              "    </tr>\n",
              "    <tr>\n",
              "      <th>9</th>\n",
              "      <td>184099</td>\n",
              "      <td>[Horror]</td>\n",
              "      <td>FALL</td>\n",
              "      <td>2024</td>\n",
              "      <td>None</td>\n",
              "      <td>Agent Blue</td>\n",
              "      <td>Agent Blue</td>\n",
              "      <td>[]</td>\n",
              "    </tr>\n",
              "    <tr>\n",
              "      <th>10</th>\n",
              "      <td>184288</td>\n",
              "      <td>[Comedy]</td>\n",
              "      <td>FALL</td>\n",
              "      <td>2024</td>\n",
              "      <td>None</td>\n",
              "      <td>カズヒホとマリーのようこそキッチン。</td>\n",
              "      <td>Kazuhiho to Marie no Youkoso Kitchen.</td>\n",
              "      <td>[]</td>\n",
              "    </tr>\n",
              "    <tr>\n",
              "      <th>11</th>\n",
              "      <td>184694</td>\n",
              "      <td>[Action, Adventure, Fantasy]</td>\n",
              "      <td>FALL</td>\n",
              "      <td>2024</td>\n",
              "      <td>Solo Leveling -ReAwakening-</td>\n",
              "      <td>俺だけレベルアップな件 -ReAwakening-</td>\n",
              "      <td>Ore dake Level Up na Ken: ReAwakening</td>\n",
              "      <td>[]</td>\n",
              "    </tr>\n",
              "  </tbody>\n",
              "</table>\n",
              "<p>112 rows × 8 columns</p>\n",
              "</div>\n",
              "    <div class=\"colab-df-buttons\">\n",
              "\n",
              "  <div class=\"colab-df-container\">\n",
              "    <button class=\"colab-df-convert\" onclick=\"convertToInteractive('df-5c636d31-3252-4df8-badf-1c0705e71440')\"\n",
              "            title=\"Convert this dataframe to an interactive table.\"\n",
              "            style=\"display:none;\">\n",
              "\n",
              "  <svg xmlns=\"http://www.w3.org/2000/svg\" height=\"24px\" viewBox=\"0 -960 960 960\">\n",
              "    <path d=\"M120-120v-720h720v720H120Zm60-500h600v-160H180v160Zm220 220h160v-160H400v160Zm0 220h160v-160H400v160ZM180-400h160v-160H180v160Zm440 0h160v-160H620v160ZM180-180h160v-160H180v160Zm440 0h160v-160H620v160Z\"/>\n",
              "  </svg>\n",
              "    </button>\n",
              "\n",
              "  <style>\n",
              "    .colab-df-container {\n",
              "      display:flex;\n",
              "      gap: 12px;\n",
              "    }\n",
              "\n",
              "    .colab-df-convert {\n",
              "      background-color: #E8F0FE;\n",
              "      border: none;\n",
              "      border-radius: 50%;\n",
              "      cursor: pointer;\n",
              "      display: none;\n",
              "      fill: #1967D2;\n",
              "      height: 32px;\n",
              "      padding: 0 0 0 0;\n",
              "      width: 32px;\n",
              "    }\n",
              "\n",
              "    .colab-df-convert:hover {\n",
              "      background-color: #E2EBFA;\n",
              "      box-shadow: 0px 1px 2px rgba(60, 64, 67, 0.3), 0px 1px 3px 1px rgba(60, 64, 67, 0.15);\n",
              "      fill: #174EA6;\n",
              "    }\n",
              "\n",
              "    .colab-df-buttons div {\n",
              "      margin-bottom: 4px;\n",
              "    }\n",
              "\n",
              "    [theme=dark] .colab-df-convert {\n",
              "      background-color: #3B4455;\n",
              "      fill: #D2E3FC;\n",
              "    }\n",
              "\n",
              "    [theme=dark] .colab-df-convert:hover {\n",
              "      background-color: #434B5C;\n",
              "      box-shadow: 0px 1px 3px 1px rgba(0, 0, 0, 0.15);\n",
              "      filter: drop-shadow(0px 1px 2px rgba(0, 0, 0, 0.3));\n",
              "      fill: #FFFFFF;\n",
              "    }\n",
              "  </style>\n",
              "\n",
              "    <script>\n",
              "      const buttonEl =\n",
              "        document.querySelector('#df-5c636d31-3252-4df8-badf-1c0705e71440 button.colab-df-convert');\n",
              "      buttonEl.style.display =\n",
              "        google.colab.kernel.accessAllowed ? 'block' : 'none';\n",
              "\n",
              "      async function convertToInteractive(key) {\n",
              "        const element = document.querySelector('#df-5c636d31-3252-4df8-badf-1c0705e71440');\n",
              "        const dataTable =\n",
              "          await google.colab.kernel.invokeFunction('convertToInteractive',\n",
              "                                                    [key], {});\n",
              "        if (!dataTable) return;\n",
              "\n",
              "        const docLinkHtml = 'Like what you see? Visit the ' +\n",
              "          '<a target=\"_blank\" href=https://colab.research.google.com/notebooks/data_table.ipynb>data table notebook</a>'\n",
              "          + ' to learn more about interactive tables.';\n",
              "        element.innerHTML = '';\n",
              "        dataTable['output_type'] = 'display_data';\n",
              "        await google.colab.output.renderOutput(dataTable, element);\n",
              "        const docLink = document.createElement('div');\n",
              "        docLink.innerHTML = docLinkHtml;\n",
              "        element.appendChild(docLink);\n",
              "      }\n",
              "    </script>\n",
              "  </div>\n",
              "\n",
              "\n",
              "<div id=\"df-aebcf4e7-019f-412d-a201-baeef5fbd8cd\">\n",
              "  <button class=\"colab-df-quickchart\" onclick=\"quickchart('df-aebcf4e7-019f-412d-a201-baeef5fbd8cd')\"\n",
              "            title=\"Suggest charts\"\n",
              "            style=\"display:none;\">\n",
              "\n",
              "<svg xmlns=\"http://www.w3.org/2000/svg\" height=\"24px\"viewBox=\"0 0 24 24\"\n",
              "     width=\"24px\">\n",
              "    <g>\n",
              "        <path d=\"M19 3H5c-1.1 0-2 .9-2 2v14c0 1.1.9 2 2 2h14c1.1 0 2-.9 2-2V5c0-1.1-.9-2-2-2zM9 17H7v-7h2v7zm4 0h-2V7h2v10zm4 0h-2v-4h2v4z\"/>\n",
              "    </g>\n",
              "</svg>\n",
              "  </button>\n",
              "\n",
              "<style>\n",
              "  .colab-df-quickchart {\n",
              "      --bg-color: #E8F0FE;\n",
              "      --fill-color: #1967D2;\n",
              "      --hover-bg-color: #E2EBFA;\n",
              "      --hover-fill-color: #174EA6;\n",
              "      --disabled-fill-color: #AAA;\n",
              "      --disabled-bg-color: #DDD;\n",
              "  }\n",
              "\n",
              "  [theme=dark] .colab-df-quickchart {\n",
              "      --bg-color: #3B4455;\n",
              "      --fill-color: #D2E3FC;\n",
              "      --hover-bg-color: #434B5C;\n",
              "      --hover-fill-color: #FFFFFF;\n",
              "      --disabled-bg-color: #3B4455;\n",
              "      --disabled-fill-color: #666;\n",
              "  }\n",
              "\n",
              "  .colab-df-quickchart {\n",
              "    background-color: var(--bg-color);\n",
              "    border: none;\n",
              "    border-radius: 50%;\n",
              "    cursor: pointer;\n",
              "    display: none;\n",
              "    fill: var(--fill-color);\n",
              "    height: 32px;\n",
              "    padding: 0;\n",
              "    width: 32px;\n",
              "  }\n",
              "\n",
              "  .colab-df-quickchart:hover {\n",
              "    background-color: var(--hover-bg-color);\n",
              "    box-shadow: 0 1px 2px rgba(60, 64, 67, 0.3), 0 1px 3px 1px rgba(60, 64, 67, 0.15);\n",
              "    fill: var(--button-hover-fill-color);\n",
              "  }\n",
              "\n",
              "  .colab-df-quickchart-complete:disabled,\n",
              "  .colab-df-quickchart-complete:disabled:hover {\n",
              "    background-color: var(--disabled-bg-color);\n",
              "    fill: var(--disabled-fill-color);\n",
              "    box-shadow: none;\n",
              "  }\n",
              "\n",
              "  .colab-df-spinner {\n",
              "    border: 2px solid var(--fill-color);\n",
              "    border-color: transparent;\n",
              "    border-bottom-color: var(--fill-color);\n",
              "    animation:\n",
              "      spin 1s steps(1) infinite;\n",
              "  }\n",
              "\n",
              "  @keyframes spin {\n",
              "    0% {\n",
              "      border-color: transparent;\n",
              "      border-bottom-color: var(--fill-color);\n",
              "      border-left-color: var(--fill-color);\n",
              "    }\n",
              "    20% {\n",
              "      border-color: transparent;\n",
              "      border-left-color: var(--fill-color);\n",
              "      border-top-color: var(--fill-color);\n",
              "    }\n",
              "    30% {\n",
              "      border-color: transparent;\n",
              "      border-left-color: var(--fill-color);\n",
              "      border-top-color: var(--fill-color);\n",
              "      border-right-color: var(--fill-color);\n",
              "    }\n",
              "    40% {\n",
              "      border-color: transparent;\n",
              "      border-right-color: var(--fill-color);\n",
              "      border-top-color: var(--fill-color);\n",
              "    }\n",
              "    60% {\n",
              "      border-color: transparent;\n",
              "      border-right-color: var(--fill-color);\n",
              "    }\n",
              "    80% {\n",
              "      border-color: transparent;\n",
              "      border-right-color: var(--fill-color);\n",
              "      border-bottom-color: var(--fill-color);\n",
              "    }\n",
              "    90% {\n",
              "      border-color: transparent;\n",
              "      border-bottom-color: var(--fill-color);\n",
              "    }\n",
              "  }\n",
              "</style>\n",
              "\n",
              "  <script>\n",
              "    async function quickchart(key) {\n",
              "      const quickchartButtonEl =\n",
              "        document.querySelector('#' + key + ' button');\n",
              "      quickchartButtonEl.disabled = true;  // To prevent multiple clicks.\n",
              "      quickchartButtonEl.classList.add('colab-df-spinner');\n",
              "      try {\n",
              "        const charts = await google.colab.kernel.invokeFunction(\n",
              "            'suggestCharts', [key], {});\n",
              "      } catch (error) {\n",
              "        console.error('Error during call to suggestCharts:', error);\n",
              "      }\n",
              "      quickchartButtonEl.classList.remove('colab-df-spinner');\n",
              "      quickchartButtonEl.classList.add('colab-df-quickchart-complete');\n",
              "    }\n",
              "    (() => {\n",
              "      let quickchartButtonEl =\n",
              "        document.querySelector('#df-aebcf4e7-019f-412d-a201-baeef5fbd8cd button');\n",
              "      quickchartButtonEl.style.display =\n",
              "        google.colab.kernel.accessAllowed ? 'block' : 'none';\n",
              "    })();\n",
              "  </script>\n",
              "</div>\n",
              "\n",
              "  <div id=\"id_d4738288-f406-47ba-a86e-b5cdd9efc8d8\">\n",
              "    <style>\n",
              "      .colab-df-generate {\n",
              "        background-color: #E8F0FE;\n",
              "        border: none;\n",
              "        border-radius: 50%;\n",
              "        cursor: pointer;\n",
              "        display: none;\n",
              "        fill: #1967D2;\n",
              "        height: 32px;\n",
              "        padding: 0 0 0 0;\n",
              "        width: 32px;\n",
              "      }\n",
              "\n",
              "      .colab-df-generate:hover {\n",
              "        background-color: #E2EBFA;\n",
              "        box-shadow: 0px 1px 2px rgba(60, 64, 67, 0.3), 0px 1px 3px 1px rgba(60, 64, 67, 0.15);\n",
              "        fill: #174EA6;\n",
              "      }\n",
              "\n",
              "      [theme=dark] .colab-df-generate {\n",
              "        background-color: #3B4455;\n",
              "        fill: #D2E3FC;\n",
              "      }\n",
              "\n",
              "      [theme=dark] .colab-df-generate:hover {\n",
              "        background-color: #434B5C;\n",
              "        box-shadow: 0px 1px 3px 1px rgba(0, 0, 0, 0.15);\n",
              "        filter: drop-shadow(0px 1px 2px rgba(0, 0, 0, 0.3));\n",
              "        fill: #FFFFFF;\n",
              "      }\n",
              "    </style>\n",
              "    <button class=\"colab-df-generate\" onclick=\"generateWithVariable('anime_data')\"\n",
              "            title=\"Generate code using this dataframe.\"\n",
              "            style=\"display:none;\">\n",
              "\n",
              "  <svg xmlns=\"http://www.w3.org/2000/svg\" height=\"24px\"viewBox=\"0 0 24 24\"\n",
              "       width=\"24px\">\n",
              "    <path d=\"M7,19H8.4L18.45,9,17,7.55,7,17.6ZM5,21V16.75L18.45,3.32a2,2,0,0,1,2.83,0l1.4,1.43a1.91,1.91,0,0,1,.58,1.4,1.91,1.91,0,0,1-.58,1.4L9.25,21ZM18.45,9,17,7.55Zm-12,3A5.31,5.31,0,0,0,4.9,8.1,5.31,5.31,0,0,0,1,6.5,5.31,5.31,0,0,0,4.9,4.9,5.31,5.31,0,0,0,6.5,1,5.31,5.31,0,0,0,8.1,4.9,5.31,5.31,0,0,0,12,6.5,5.46,5.46,0,0,0,6.5,12Z\"/>\n",
              "  </svg>\n",
              "    </button>\n",
              "    <script>\n",
              "      (() => {\n",
              "      const buttonEl =\n",
              "        document.querySelector('#id_d4738288-f406-47ba-a86e-b5cdd9efc8d8 button.colab-df-generate');\n",
              "      buttonEl.style.display =\n",
              "        google.colab.kernel.accessAllowed ? 'block' : 'none';\n",
              "\n",
              "      buttonEl.onclick = () => {\n",
              "        google.colab.notebook.generateWithVariable('anime_data');\n",
              "      }\n",
              "      })();\n",
              "    </script>\n",
              "  </div>\n",
              "\n",
              "    </div>\n",
              "  </div>\n"
            ],
            "application/vnd.google.colaboratory.intrinsic+json": {
              "type": "dataframe",
              "variable_name": "anime_data",
              "summary": "{\n  \"name\": \"anime_data\",\n  \"rows\": 112,\n  \"fields\": [\n    {\n      \"column\": \"id\",\n      \"properties\": {\n        \"dtype\": \"number\",\n        \"std\": 12121,\n        \"min\": 107372,\n        \"max\": 184694,\n        \"num_unique_values\": 112,\n        \"samples\": [\n          171637,\n          176369,\n          150930\n        ],\n        \"semantic_type\": \"\",\n        \"description\": \"\"\n      }\n    },\n    {\n      \"column\": \"genres\",\n      \"properties\": {\n        \"dtype\": \"object\",\n        \"semantic_type\": \"\",\n        \"description\": \"\"\n      }\n    },\n    {\n      \"column\": \"season\",\n      \"properties\": {\n        \"dtype\": \"category\",\n        \"num_unique_values\": 1,\n        \"samples\": [\n          \"FALL\"\n        ],\n        \"semantic_type\": \"\",\n        \"description\": \"\"\n      }\n    },\n    {\n      \"column\": \"seasonYear\",\n      \"properties\": {\n        \"dtype\": \"number\",\n        \"std\": 0,\n        \"min\": 2024,\n        \"max\": 2024,\n        \"num_unique_values\": 1,\n        \"samples\": [\n          2024\n        ],\n        \"semantic_type\": \"\",\n        \"description\": \"\"\n      }\n    },\n    {\n      \"column\": \"title.english\",\n      \"properties\": {\n        \"dtype\": \"string\",\n        \"num_unique_values\": 63,\n        \"samples\": [\n          \"KUROMI'S PRETTY JOURNEY Season 2: Escape from the Multiverse!\"\n        ],\n        \"semantic_type\": \"\",\n        \"description\": \"\"\n      }\n    },\n    {\n      \"column\": \"title.native\",\n      \"properties\": {\n        \"dtype\": \"string\",\n        \"num_unique_values\": 112,\n        \"samples\": [\n          \"\\u308b\\u308d\\u3046\\u306b\\u5263\\u5fc3 \\uff0d\\u660e\\u6cbb\\u5263\\u5ba2\\u6d6a\\u6f2b\\u8b5a\\uff0d\\u4eac\\u90fd\\u52d5\\u4e71\"\n        ],\n        \"semantic_type\": \"\",\n        \"description\": \"\"\n      }\n    },\n    {\n      \"column\": \"title.romaji\",\n      \"properties\": {\n        \"dtype\": \"string\",\n        \"num_unique_values\": 112,\n        \"samples\": [\n          \"Rurouni Kenshin: Meiji Kenkaku Romantan - Kyoto Douran\"\n        ],\n        \"semantic_type\": \"\",\n        \"description\": \"\"\n      }\n    },\n    {\n      \"column\": \"reviews.edges\",\n      \"properties\": {\n        \"dtype\": \"object\",\n        \"semantic_type\": \"\",\n        \"description\": \"\"\n      }\n    }\n  ]\n}"
            }
          },
          "metadata": {},
          "execution_count": 19
        }
      ]
    },
    {
      "cell_type": "markdown",
      "source": [
        "It is observed that there are 112 rows, so there are 112 anime shows that were released in the Fall of 2024."
      ],
      "metadata": {
        "id": "tEKQ-gLEC8nt"
      }
    },
    {
      "cell_type": "markdown",
      "source": [
        "Inserting real data"
      ],
      "metadata": {
        "id": "4F1OREP3B9gB"
      }
    },
    {
      "cell_type": "code",
      "source": [
        "# not including the reviews\n",
        "insert_data(table='ANIME', data=anime_data.loc[:, 'id':'title.romaji'])"
      ],
      "metadata": {
        "colab": {
          "base_uri": "https://localhost:8080/"
        },
        "id": "DIq9Dj5rA2iM",
        "outputId": "4be09051-04c9-47c2-d119-f0006f6030d3"
      },
      "execution_count": null,
      "outputs": [
        {
          "output_type": "stream",
          "name": "stdout",
          "text": [
            "2024-11-23 08:07:30\tConnected!\n",
            "2024-11-23 08:07:30\tInserting...\n",
            "2024-11-23 08:07:54\tOperation took 24.2764 seconds.\n",
            "2024-11-23 08:07:54\tSuccessful operation.\n",
            "2024-11-23 08:07:54\tDisconnected.\n"
          ]
        }
      ]
    },
    {
      "cell_type": "code",
      "source": [
        "display_all('ANIME')"
      ],
      "metadata": {
        "colab": {
          "base_uri": "https://localhost:8080/",
          "height": 582
        },
        "id": "Bv_Ch4PvA6_2",
        "outputId": "68884c2e-aa99-4b5f-e60e-51963c29bec2"
      },
      "execution_count": null,
      "outputs": [
        {
          "output_type": "stream",
          "name": "stdout",
          "text": [
            "2024-11-23 08:08:00\tConnected!\n"
          ]
        },
        {
          "output_type": "display_data",
          "data": {
            "text/plain": [
              "shape: (112, 7)\n",
              "┌────────┬────────────────┬────────┬────────────┬────────────────┬────────────────┬────────────────┐\n",
              "│ id     ┆ genres         ┆ season ┆ seasonyear ┆ title.english  ┆ title.native   ┆ title.romaji   │\n",
              "│ ---    ┆ ---            ┆ ---    ┆ ---        ┆ ---            ┆ ---            ┆ ---            │\n",
              "│ i64    ┆ str            ┆ str    ┆ i64        ┆ str            ┆ str            ┆ str            │\n",
              "╞════════╪════════════════╪════════╪════════════╪════════════════╪════════════════╪════════════════╡\n",
              "│ 107372 ┆ {Fantasy}      ┆ FALL   ┆ 2024       ┆ The Stories of ┆ 魔法使いになれ ┆ Mahoutsukai ni │\n",
              "│        ┆                ┆        ┆            ┆ Girls Who      ┆ なかった女の子 ┆ Narenakatta    │\n",
              "│        ┆                ┆        ┆            ┆ Could…         ┆ の話。         ┆ Onn…           │\n",
              "│ 111314 ┆ {Drama,Horror, ┆ FALL   ┆ 2024       ┆ null           ┆ うずまき       ┆ Uzumaki        │\n",
              "│        ┆ Mystery,Supern ┆        ┆            ┆                ┆                ┆                │\n",
              "│        ┆ at…            ┆        ┆            ┆                ┆                ┆                │\n",
              "│ 138522 ┆ {Action,Drama, ┆ FALL   ┆ 2024       ┆ null           ┆ Thunderbolt    ┆ Thunderbolt    │\n",
              "│        ┆ Fantasy}       ┆        ┆            ┆                ┆ Fantasy        ┆ Fantasy:       │\n",
              "│        ┆                ┆        ┆            ┆                ┆ 東離劍遊紀4    ┆ Touriken …     │\n",
              "│ 141182 ┆ {Action,Drama, ┆ FALL   ┆ 2024       ┆ Seirei         ┆ 精霊幻想記2    ┆ Seirei         │\n",
              "│        ┆ Fantasy,Romanc ┆        ┆            ┆ Gensouki:      ┆                ┆ Gensouki 2     │\n",
              "│        ┆ e}             ┆        ┆            ┆ Spirit Chroni… ┆                ┆                │\n",
              "│ 150930 ┆ {Comedy,Romanc ┆ FALL   ┆ 2024       ┆ Murai In Love  ┆ 村井の恋       ┆ Murai no Koi   │\n",
              "│        ┆ e}             ┆        ┆            ┆                ┆                ┆                │\n",
              "│ …      ┆ …              ┆ …      ┆ …          ┆ …              ┆ …              ┆ …              │\n",
              "│ 183473 ┆ {Comedy}       ┆ FALL   ┆ 2024       ┆ null           ┆ ぬいストーリー ┆ Nui Story 2    │\n",
              "│        ┆                ┆        ┆            ┆                ┆ 2              ┆                │\n",
              "│ 183651 ┆ {Mecha,Sci-Fi} ┆ FALL   ┆ 2024       ┆ null           ┆ 機動戦士ガンダ ┆ Kidou Senshi   │\n",
              "│        ┆                ┆        ┆            ┆                ┆ ム ALC         ┆ Gundam ALC     │\n",
              "│        ┆                ┆        ┆            ┆                ┆ ENCOUNTER      ┆ ENCOUN…        │\n",
              "│ 184099 ┆ {Horror}       ┆ FALL   ┆ 2024       ┆ null           ┆ Agent Blue     ┆ Agent Blue     │\n",
              "│ 184288 ┆ {Comedy}       ┆ FALL   ┆ 2024       ┆ null           ┆ カズヒホとマリ ┆ Kazuhiho to    │\n",
              "│        ┆                ┆        ┆            ┆                ┆ ーのようこそキ ┆ Marie no       │\n",
              "│        ┆                ┆        ┆            ┆                ┆ ッチン。       ┆ Youkoso K…     │\n",
              "│ 184694 ┆ {Action,Advent ┆ FALL   ┆ 2024       ┆ Solo Leveling  ┆ 俺だけレベルア ┆ Ore dake Level │\n",
              "│        ┆ ure,Fantasy}   ┆        ┆            ┆ -ReAwakening-  ┆ ップな件       ┆ Up na Ken:     │\n",
              "│        ┆                ┆        ┆            ┆                ┆ -ReAwakening-  ┆ ReAw…          │\n",
              "└────────┴────────────────┴────────┴────────────┴────────────────┴────────────────┴────────────────┘"
            ],
            "text/html": [
              "<div><style>\n",
              ".dataframe > thead > tr,\n",
              ".dataframe > tbody > tr {\n",
              "  text-align: right;\n",
              "  white-space: pre-wrap;\n",
              "}\n",
              "</style>\n",
              "<small>shape: (112, 7)</small><table border=\"1\" class=\"dataframe\"><thead><tr><th>id</th><th>genres</th><th>season</th><th>seasonyear</th><th>title.english</th><th>title.native</th><th>title.romaji</th></tr><tr><td>i64</td><td>str</td><td>str</td><td>i64</td><td>str</td><td>str</td><td>str</td></tr></thead><tbody><tr><td>107372</td><td>&quot;{Fantasy}&quot;</td><td>&quot;FALL&quot;</td><td>2024</td><td>&quot;The Stories of Girls Who Could…</td><td>&quot;魔法使いになれなかった女の子の話。&quot;</td><td>&quot;Mahoutsukai ni Narenakatta Onn…</td></tr><tr><td>111314</td><td>&quot;{Drama,Horror,Mystery,Supernat…</td><td>&quot;FALL&quot;</td><td>2024</td><td>null</td><td>&quot;うずまき&quot;</td><td>&quot;Uzumaki&quot;</td></tr><tr><td>138522</td><td>&quot;{Action,Drama,Fantasy}&quot;</td><td>&quot;FALL&quot;</td><td>2024</td><td>null</td><td>&quot;Thunderbolt Fantasy 東離劍遊紀4&quot;</td><td>&quot;Thunderbolt Fantasy: Touriken …</td></tr><tr><td>141182</td><td>&quot;{Action,Drama,Fantasy,Romance}&quot;</td><td>&quot;FALL&quot;</td><td>2024</td><td>&quot;Seirei Gensouki: Spirit Chroni…</td><td>&quot;精霊幻想記2&quot;</td><td>&quot;Seirei Gensouki 2&quot;</td></tr><tr><td>150930</td><td>&quot;{Comedy,Romance}&quot;</td><td>&quot;FALL&quot;</td><td>2024</td><td>&quot;Murai In Love&quot;</td><td>&quot;村井の恋&quot;</td><td>&quot;Murai no Koi&quot;</td></tr><tr><td>&hellip;</td><td>&hellip;</td><td>&hellip;</td><td>&hellip;</td><td>&hellip;</td><td>&hellip;</td><td>&hellip;</td></tr><tr><td>183473</td><td>&quot;{Comedy}&quot;</td><td>&quot;FALL&quot;</td><td>2024</td><td>null</td><td>&quot;ぬいストーリー2&quot;</td><td>&quot;Nui Story 2&quot;</td></tr><tr><td>183651</td><td>&quot;{Mecha,Sci-Fi}&quot;</td><td>&quot;FALL&quot;</td><td>2024</td><td>null</td><td>&quot;機動戦士ガンダム ALC ENCOUNTER&quot;</td><td>&quot;Kidou Senshi Gundam ALC ENCOUN…</td></tr><tr><td>184099</td><td>&quot;{Horror}&quot;</td><td>&quot;FALL&quot;</td><td>2024</td><td>null</td><td>&quot;Agent Blue&quot;</td><td>&quot;Agent Blue&quot;</td></tr><tr><td>184288</td><td>&quot;{Comedy}&quot;</td><td>&quot;FALL&quot;</td><td>2024</td><td>null</td><td>&quot;カズヒホとマリーのようこそキッチン。&quot;</td><td>&quot;Kazuhiho to Marie no Youkoso K…</td></tr><tr><td>184694</td><td>&quot;{Action,Adventure,Fantasy}&quot;</td><td>&quot;FALL&quot;</td><td>2024</td><td>&quot;Solo Leveling -ReAwakening-&quot;</td><td>&quot;俺だけレベルアップな件 -ReAwakening-&quot;</td><td>&quot;Ore dake Level Up na Ken: ReAw…</td></tr></tbody></table></div>"
            ]
          },
          "metadata": {}
        },
        {
          "output_type": "stream",
          "name": "stdout",
          "text": [
            "2024-11-23 08:08:01\tDisconnected.\n"
          ]
        }
      ]
    },
    {
      "cell_type": "markdown",
      "source": [
        "The code begins by initializing an empty DataFrame named 'review_data', which will be used to store review information. Then it iterates through the 'reviews.edges' field of the 'anime_data' DataFrame, processing each review. During the iteration, the code checks if the current review contains content. If so, the review is normalized into a DataFrame and concatenated to the 'review_data' DataFrame. As a result, the final 'review_data' DataFrame contains all the extracted review information."
      ],
      "metadata": {
        "id": "ITctJgDpA-yy"
      }
    },
    {
      "cell_type": "code",
      "source": [
        "# reviews\n",
        "\n",
        "review_data = pd.DataFrame()\n",
        "\n",
        "for i in anime_data['reviews.edges']:\n",
        "  if len(i) > 0:\n",
        "    review_data = pd.concat([review_data, pd.json_normalize(i)], axis=0)\n",
        "\n",
        "review_data"
      ],
      "metadata": {
        "colab": {
          "base_uri": "https://localhost:8080/",
          "height": 436
        },
        "id": "kjQzegTYrlA9",
        "outputId": "08d0987e-e008-40c8-c182-a29a359d8532"
      },
      "execution_count": null,
      "outputs": [
        {
          "output_type": "execute_result",
          "data": {
            "text/plain": [
              "   node.id  node.mediaId  node.rating  node.ratingAmount  node.score  \\\n",
              "0    25845        111314          101                112          50   \n",
              "1    25846        111314          118                131          21   \n",
              "2    25847        111314           23                 30          25   \n",
              "3    25848        111314           24                 32          17   \n",
              "4    25857        111314           49                 81          10   \n",
              "5    25931        111314            8                 32          81   \n",
              "0    25832        166703           14                 18          70   \n",
              "0    25854        182469          223                235         100   \n",
              "1    25862        182469           19                191          64   \n",
              "\n",
              "                                           node.body  \\\n",
              "0  ~~~\\n\\n#*Originally written for my YouTube cha...   \n",
              "1  >#####___This review is spoiler-free.___\\n\\n~~...   \n",
              "2  ***\\n<img src=\"https://sm.ign.com/t/ign_pk/pho...   \n",
              "3  __This review is spoilerless and anything rela...   \n",
              "4  # Review is light in spoilers\\nwhat a boring s...   \n",
              "5  Two days after the second episode of Uzumaki r...   \n",
              "0  <p align=\"justify\">Okay, standard disclaimer f...   \n",
              "0  When I knew a few weeks ago that Megumi Ishita...   \n",
              "1  The special begins on a recap of the Marinefor...   \n",
              "\n",
              "                                        node.summary  \n",
              "0  The Animation Was the Scariest Thing About Thi...  \n",
              "1  Scandalous, slovenly, and slapdash—a screw-up ...  \n",
              "2                  They had us in the first quarter   \n",
              "3     Another Studio Tarnishes Ito's Name Once Again  \n",
              "4                       Uzumaki: a spiral to boredom  \n",
              "5  Is it better to cancel an unfinished series, o...  \n",
              "0                             mfw the suit is mobile  \n",
              "0                    A love letter to Oda's creation  \n",
              "1  Ishitani would do right to sacrifice the notic...  "
            ],
            "text/html": [
              "\n",
              "  <div id=\"df-bbb6a947-2382-43fa-9f99-af63afc46183\" class=\"colab-df-container\">\n",
              "    <div>\n",
              "<style scoped>\n",
              "    .dataframe tbody tr th:only-of-type {\n",
              "        vertical-align: middle;\n",
              "    }\n",
              "\n",
              "    .dataframe tbody tr th {\n",
              "        vertical-align: top;\n",
              "    }\n",
              "\n",
              "    .dataframe thead th {\n",
              "        text-align: right;\n",
              "    }\n",
              "</style>\n",
              "<table border=\"1\" class=\"dataframe\">\n",
              "  <thead>\n",
              "    <tr style=\"text-align: right;\">\n",
              "      <th></th>\n",
              "      <th>node.id</th>\n",
              "      <th>node.mediaId</th>\n",
              "      <th>node.rating</th>\n",
              "      <th>node.ratingAmount</th>\n",
              "      <th>node.score</th>\n",
              "      <th>node.body</th>\n",
              "      <th>node.summary</th>\n",
              "    </tr>\n",
              "  </thead>\n",
              "  <tbody>\n",
              "    <tr>\n",
              "      <th>0</th>\n",
              "      <td>25845</td>\n",
              "      <td>111314</td>\n",
              "      <td>101</td>\n",
              "      <td>112</td>\n",
              "      <td>50</td>\n",
              "      <td>~~~\\n\\n#*Originally written for my YouTube cha...</td>\n",
              "      <td>The Animation Was the Scariest Thing About Thi...</td>\n",
              "    </tr>\n",
              "    <tr>\n",
              "      <th>1</th>\n",
              "      <td>25846</td>\n",
              "      <td>111314</td>\n",
              "      <td>118</td>\n",
              "      <td>131</td>\n",
              "      <td>21</td>\n",
              "      <td>&gt;#####___This review is spoiler-free.___\\n\\n~~...</td>\n",
              "      <td>Scandalous, slovenly, and slapdash—a screw-up ...</td>\n",
              "    </tr>\n",
              "    <tr>\n",
              "      <th>2</th>\n",
              "      <td>25847</td>\n",
              "      <td>111314</td>\n",
              "      <td>23</td>\n",
              "      <td>30</td>\n",
              "      <td>25</td>\n",
              "      <td>***\\n&lt;img src=\"https://sm.ign.com/t/ign_pk/pho...</td>\n",
              "      <td>They had us in the first quarter</td>\n",
              "    </tr>\n",
              "    <tr>\n",
              "      <th>3</th>\n",
              "      <td>25848</td>\n",
              "      <td>111314</td>\n",
              "      <td>24</td>\n",
              "      <td>32</td>\n",
              "      <td>17</td>\n",
              "      <td>__This review is spoilerless and anything rela...</td>\n",
              "      <td>Another Studio Tarnishes Ito's Name Once Again</td>\n",
              "    </tr>\n",
              "    <tr>\n",
              "      <th>4</th>\n",
              "      <td>25857</td>\n",
              "      <td>111314</td>\n",
              "      <td>49</td>\n",
              "      <td>81</td>\n",
              "      <td>10</td>\n",
              "      <td># Review is light in spoilers\\nwhat a boring s...</td>\n",
              "      <td>Uzumaki: a spiral to boredom</td>\n",
              "    </tr>\n",
              "    <tr>\n",
              "      <th>5</th>\n",
              "      <td>25931</td>\n",
              "      <td>111314</td>\n",
              "      <td>8</td>\n",
              "      <td>32</td>\n",
              "      <td>81</td>\n",
              "      <td>Two days after the second episode of Uzumaki r...</td>\n",
              "      <td>Is it better to cancel an unfinished series, o...</td>\n",
              "    </tr>\n",
              "    <tr>\n",
              "      <th>0</th>\n",
              "      <td>25832</td>\n",
              "      <td>166703</td>\n",
              "      <td>14</td>\n",
              "      <td>18</td>\n",
              "      <td>70</td>\n",
              "      <td>&lt;p align=\"justify\"&gt;Okay, standard disclaimer f...</td>\n",
              "      <td>mfw the suit is mobile</td>\n",
              "    </tr>\n",
              "    <tr>\n",
              "      <th>0</th>\n",
              "      <td>25854</td>\n",
              "      <td>182469</td>\n",
              "      <td>223</td>\n",
              "      <td>235</td>\n",
              "      <td>100</td>\n",
              "      <td>When I knew a few weeks ago that Megumi Ishita...</td>\n",
              "      <td>A love letter to Oda's creation</td>\n",
              "    </tr>\n",
              "    <tr>\n",
              "      <th>1</th>\n",
              "      <td>25862</td>\n",
              "      <td>182469</td>\n",
              "      <td>19</td>\n",
              "      <td>191</td>\n",
              "      <td>64</td>\n",
              "      <td>The special begins on a recap of the Marinefor...</td>\n",
              "      <td>Ishitani would do right to sacrifice the notic...</td>\n",
              "    </tr>\n",
              "  </tbody>\n",
              "</table>\n",
              "</div>\n",
              "    <div class=\"colab-df-buttons\">\n",
              "\n",
              "  <div class=\"colab-df-container\">\n",
              "    <button class=\"colab-df-convert\" onclick=\"convertToInteractive('df-bbb6a947-2382-43fa-9f99-af63afc46183')\"\n",
              "            title=\"Convert this dataframe to an interactive table.\"\n",
              "            style=\"display:none;\">\n",
              "\n",
              "  <svg xmlns=\"http://www.w3.org/2000/svg\" height=\"24px\" viewBox=\"0 -960 960 960\">\n",
              "    <path d=\"M120-120v-720h720v720H120Zm60-500h600v-160H180v160Zm220 220h160v-160H400v160Zm0 220h160v-160H400v160ZM180-400h160v-160H180v160Zm440 0h160v-160H620v160ZM180-180h160v-160H180v160Zm440 0h160v-160H620v160Z\"/>\n",
              "  </svg>\n",
              "    </button>\n",
              "\n",
              "  <style>\n",
              "    .colab-df-container {\n",
              "      display:flex;\n",
              "      gap: 12px;\n",
              "    }\n",
              "\n",
              "    .colab-df-convert {\n",
              "      background-color: #E8F0FE;\n",
              "      border: none;\n",
              "      border-radius: 50%;\n",
              "      cursor: pointer;\n",
              "      display: none;\n",
              "      fill: #1967D2;\n",
              "      height: 32px;\n",
              "      padding: 0 0 0 0;\n",
              "      width: 32px;\n",
              "    }\n",
              "\n",
              "    .colab-df-convert:hover {\n",
              "      background-color: #E2EBFA;\n",
              "      box-shadow: 0px 1px 2px rgba(60, 64, 67, 0.3), 0px 1px 3px 1px rgba(60, 64, 67, 0.15);\n",
              "      fill: #174EA6;\n",
              "    }\n",
              "\n",
              "    .colab-df-buttons div {\n",
              "      margin-bottom: 4px;\n",
              "    }\n",
              "\n",
              "    [theme=dark] .colab-df-convert {\n",
              "      background-color: #3B4455;\n",
              "      fill: #D2E3FC;\n",
              "    }\n",
              "\n",
              "    [theme=dark] .colab-df-convert:hover {\n",
              "      background-color: #434B5C;\n",
              "      box-shadow: 0px 1px 3px 1px rgba(0, 0, 0, 0.15);\n",
              "      filter: drop-shadow(0px 1px 2px rgba(0, 0, 0, 0.3));\n",
              "      fill: #FFFFFF;\n",
              "    }\n",
              "  </style>\n",
              "\n",
              "    <script>\n",
              "      const buttonEl =\n",
              "        document.querySelector('#df-bbb6a947-2382-43fa-9f99-af63afc46183 button.colab-df-convert');\n",
              "      buttonEl.style.display =\n",
              "        google.colab.kernel.accessAllowed ? 'block' : 'none';\n",
              "\n",
              "      async function convertToInteractive(key) {\n",
              "        const element = document.querySelector('#df-bbb6a947-2382-43fa-9f99-af63afc46183');\n",
              "        const dataTable =\n",
              "          await google.colab.kernel.invokeFunction('convertToInteractive',\n",
              "                                                    [key], {});\n",
              "        if (!dataTable) return;\n",
              "\n",
              "        const docLinkHtml = 'Like what you see? Visit the ' +\n",
              "          '<a target=\"_blank\" href=https://colab.research.google.com/notebooks/data_table.ipynb>data table notebook</a>'\n",
              "          + ' to learn more about interactive tables.';\n",
              "        element.innerHTML = '';\n",
              "        dataTable['output_type'] = 'display_data';\n",
              "        await google.colab.output.renderOutput(dataTable, element);\n",
              "        const docLink = document.createElement('div');\n",
              "        docLink.innerHTML = docLinkHtml;\n",
              "        element.appendChild(docLink);\n",
              "      }\n",
              "    </script>\n",
              "  </div>\n",
              "\n",
              "\n",
              "<div id=\"df-4f603277-a6a0-45f2-85b1-add8807c7e45\">\n",
              "  <button class=\"colab-df-quickchart\" onclick=\"quickchart('df-4f603277-a6a0-45f2-85b1-add8807c7e45')\"\n",
              "            title=\"Suggest charts\"\n",
              "            style=\"display:none;\">\n",
              "\n",
              "<svg xmlns=\"http://www.w3.org/2000/svg\" height=\"24px\"viewBox=\"0 0 24 24\"\n",
              "     width=\"24px\">\n",
              "    <g>\n",
              "        <path d=\"M19 3H5c-1.1 0-2 .9-2 2v14c0 1.1.9 2 2 2h14c1.1 0 2-.9 2-2V5c0-1.1-.9-2-2-2zM9 17H7v-7h2v7zm4 0h-2V7h2v10zm4 0h-2v-4h2v4z\"/>\n",
              "    </g>\n",
              "</svg>\n",
              "  </button>\n",
              "\n",
              "<style>\n",
              "  .colab-df-quickchart {\n",
              "      --bg-color: #E8F0FE;\n",
              "      --fill-color: #1967D2;\n",
              "      --hover-bg-color: #E2EBFA;\n",
              "      --hover-fill-color: #174EA6;\n",
              "      --disabled-fill-color: #AAA;\n",
              "      --disabled-bg-color: #DDD;\n",
              "  }\n",
              "\n",
              "  [theme=dark] .colab-df-quickchart {\n",
              "      --bg-color: #3B4455;\n",
              "      --fill-color: #D2E3FC;\n",
              "      --hover-bg-color: #434B5C;\n",
              "      --hover-fill-color: #FFFFFF;\n",
              "      --disabled-bg-color: #3B4455;\n",
              "      --disabled-fill-color: #666;\n",
              "  }\n",
              "\n",
              "  .colab-df-quickchart {\n",
              "    background-color: var(--bg-color);\n",
              "    border: none;\n",
              "    border-radius: 50%;\n",
              "    cursor: pointer;\n",
              "    display: none;\n",
              "    fill: var(--fill-color);\n",
              "    height: 32px;\n",
              "    padding: 0;\n",
              "    width: 32px;\n",
              "  }\n",
              "\n",
              "  .colab-df-quickchart:hover {\n",
              "    background-color: var(--hover-bg-color);\n",
              "    box-shadow: 0 1px 2px rgba(60, 64, 67, 0.3), 0 1px 3px 1px rgba(60, 64, 67, 0.15);\n",
              "    fill: var(--button-hover-fill-color);\n",
              "  }\n",
              "\n",
              "  .colab-df-quickchart-complete:disabled,\n",
              "  .colab-df-quickchart-complete:disabled:hover {\n",
              "    background-color: var(--disabled-bg-color);\n",
              "    fill: var(--disabled-fill-color);\n",
              "    box-shadow: none;\n",
              "  }\n",
              "\n",
              "  .colab-df-spinner {\n",
              "    border: 2px solid var(--fill-color);\n",
              "    border-color: transparent;\n",
              "    border-bottom-color: var(--fill-color);\n",
              "    animation:\n",
              "      spin 1s steps(1) infinite;\n",
              "  }\n",
              "\n",
              "  @keyframes spin {\n",
              "    0% {\n",
              "      border-color: transparent;\n",
              "      border-bottom-color: var(--fill-color);\n",
              "      border-left-color: var(--fill-color);\n",
              "    }\n",
              "    20% {\n",
              "      border-color: transparent;\n",
              "      border-left-color: var(--fill-color);\n",
              "      border-top-color: var(--fill-color);\n",
              "    }\n",
              "    30% {\n",
              "      border-color: transparent;\n",
              "      border-left-color: var(--fill-color);\n",
              "      border-top-color: var(--fill-color);\n",
              "      border-right-color: var(--fill-color);\n",
              "    }\n",
              "    40% {\n",
              "      border-color: transparent;\n",
              "      border-right-color: var(--fill-color);\n",
              "      border-top-color: var(--fill-color);\n",
              "    }\n",
              "    60% {\n",
              "      border-color: transparent;\n",
              "      border-right-color: var(--fill-color);\n",
              "    }\n",
              "    80% {\n",
              "      border-color: transparent;\n",
              "      border-right-color: var(--fill-color);\n",
              "      border-bottom-color: var(--fill-color);\n",
              "    }\n",
              "    90% {\n",
              "      border-color: transparent;\n",
              "      border-bottom-color: var(--fill-color);\n",
              "    }\n",
              "  }\n",
              "</style>\n",
              "\n",
              "  <script>\n",
              "    async function quickchart(key) {\n",
              "      const quickchartButtonEl =\n",
              "        document.querySelector('#' + key + ' button');\n",
              "      quickchartButtonEl.disabled = true;  // To prevent multiple clicks.\n",
              "      quickchartButtonEl.classList.add('colab-df-spinner');\n",
              "      try {\n",
              "        const charts = await google.colab.kernel.invokeFunction(\n",
              "            'suggestCharts', [key], {});\n",
              "      } catch (error) {\n",
              "        console.error('Error during call to suggestCharts:', error);\n",
              "      }\n",
              "      quickchartButtonEl.classList.remove('colab-df-spinner');\n",
              "      quickchartButtonEl.classList.add('colab-df-quickchart-complete');\n",
              "    }\n",
              "    (() => {\n",
              "      let quickchartButtonEl =\n",
              "        document.querySelector('#df-4f603277-a6a0-45f2-85b1-add8807c7e45 button');\n",
              "      quickchartButtonEl.style.display =\n",
              "        google.colab.kernel.accessAllowed ? 'block' : 'none';\n",
              "    })();\n",
              "  </script>\n",
              "</div>\n",
              "\n",
              "  <div id=\"id_1cbf1ba0-90f9-4b1d-9c02-eed9a9952495\">\n",
              "    <style>\n",
              "      .colab-df-generate {\n",
              "        background-color: #E8F0FE;\n",
              "        border: none;\n",
              "        border-radius: 50%;\n",
              "        cursor: pointer;\n",
              "        display: none;\n",
              "        fill: #1967D2;\n",
              "        height: 32px;\n",
              "        padding: 0 0 0 0;\n",
              "        width: 32px;\n",
              "      }\n",
              "\n",
              "      .colab-df-generate:hover {\n",
              "        background-color: #E2EBFA;\n",
              "        box-shadow: 0px 1px 2px rgba(60, 64, 67, 0.3), 0px 1px 3px 1px rgba(60, 64, 67, 0.15);\n",
              "        fill: #174EA6;\n",
              "      }\n",
              "\n",
              "      [theme=dark] .colab-df-generate {\n",
              "        background-color: #3B4455;\n",
              "        fill: #D2E3FC;\n",
              "      }\n",
              "\n",
              "      [theme=dark] .colab-df-generate:hover {\n",
              "        background-color: #434B5C;\n",
              "        box-shadow: 0px 1px 3px 1px rgba(0, 0, 0, 0.15);\n",
              "        filter: drop-shadow(0px 1px 2px rgba(0, 0, 0, 0.3));\n",
              "        fill: #FFFFFF;\n",
              "      }\n",
              "    </style>\n",
              "    <button class=\"colab-df-generate\" onclick=\"generateWithVariable('review_data')\"\n",
              "            title=\"Generate code using this dataframe.\"\n",
              "            style=\"display:none;\">\n",
              "\n",
              "  <svg xmlns=\"http://www.w3.org/2000/svg\" height=\"24px\"viewBox=\"0 0 24 24\"\n",
              "       width=\"24px\">\n",
              "    <path d=\"M7,19H8.4L18.45,9,17,7.55,7,17.6ZM5,21V16.75L18.45,3.32a2,2,0,0,1,2.83,0l1.4,1.43a1.91,1.91,0,0,1,.58,1.4,1.91,1.91,0,0,1-.58,1.4L9.25,21ZM18.45,9,17,7.55Zm-12,3A5.31,5.31,0,0,0,4.9,8.1,5.31,5.31,0,0,0,1,6.5,5.31,5.31,0,0,0,4.9,4.9,5.31,5.31,0,0,0,6.5,1,5.31,5.31,0,0,0,8.1,4.9,5.31,5.31,0,0,0,12,6.5,5.46,5.46,0,0,0,6.5,12Z\"/>\n",
              "  </svg>\n",
              "    </button>\n",
              "    <script>\n",
              "      (() => {\n",
              "      const buttonEl =\n",
              "        document.querySelector('#id_1cbf1ba0-90f9-4b1d-9c02-eed9a9952495 button.colab-df-generate');\n",
              "      buttonEl.style.display =\n",
              "        google.colab.kernel.accessAllowed ? 'block' : 'none';\n",
              "\n",
              "      buttonEl.onclick = () => {\n",
              "        google.colab.notebook.generateWithVariable('review_data');\n",
              "      }\n",
              "      })();\n",
              "    </script>\n",
              "  </div>\n",
              "\n",
              "    </div>\n",
              "  </div>\n"
            ],
            "application/vnd.google.colaboratory.intrinsic+json": {
              "type": "dataframe",
              "variable_name": "review_data",
              "summary": "{\n  \"name\": \"review_data\",\n  \"rows\": 9,\n  \"fields\": [\n    {\n      \"column\": \"node.id\",\n      \"properties\": {\n        \"dtype\": \"number\",\n        \"std\": 28,\n        \"min\": 25832,\n        \"max\": 25931,\n        \"num_unique_values\": 9,\n        \"samples\": [\n          25854,\n          25846,\n          25931\n        ],\n        \"semantic_type\": \"\",\n        \"description\": \"\"\n      }\n    },\n    {\n      \"column\": \"node.mediaId\",\n      \"properties\": {\n        \"dtype\": \"number\",\n        \"std\": 33262,\n        \"min\": 111314,\n        \"max\": 182469,\n        \"num_unique_values\": 3,\n        \"samples\": [\n          111314,\n          166703,\n          182469\n        ],\n        \"semantic_type\": \"\",\n        \"description\": \"\"\n      }\n    },\n    {\n      \"column\": \"node.rating\",\n      \"properties\": {\n        \"dtype\": \"number\",\n        \"std\": 71,\n        \"min\": 8,\n        \"max\": 223,\n        \"num_unique_values\": 9,\n        \"samples\": [\n          223,\n          118,\n          8\n        ],\n        \"semantic_type\": \"\",\n        \"description\": \"\"\n      }\n    },\n    {\n      \"column\": \"node.ratingAmount\",\n      \"properties\": {\n        \"dtype\": \"number\",\n        \"std\": 78,\n        \"min\": 18,\n        \"max\": 235,\n        \"num_unique_values\": 8,\n        \"samples\": [\n          131,\n          18,\n          112\n        ],\n        \"semantic_type\": \"\",\n        \"description\": \"\"\n      }\n    },\n    {\n      \"column\": \"node.score\",\n      \"properties\": {\n        \"dtype\": \"number\",\n        \"std\": 32,\n        \"min\": 10,\n        \"max\": 100,\n        \"num_unique_values\": 9,\n        \"samples\": [\n          100,\n          21,\n          81\n        ],\n        \"semantic_type\": \"\",\n        \"description\": \"\"\n      }\n    },\n    {\n      \"column\": \"node.body\",\n      \"properties\": {\n        \"dtype\": \"string\",\n        \"num_unique_values\": 9,\n        \"samples\": [\n          \"When I knew a few weeks ago that Megumi Ishitani (for those who don't know, ep.director for ep1015) was going to direct a One Piece special focused on original characters I was really, really excited, expecting it to be an amazing story. Then, today, One Piece Fan Letter dropped and it delivered everything that I could've expected from it.\\n\\n~~~img700(https://imgpost.co/images/2024/10/20/vlcsnap-2024-10-20-16h59m54s456.png)~~~\\n\\nIn Fan Letter, Ishitani takes the solid foundations that Oda's been building over the ages and gives it a twist, letting us watch the events that takes place in the main story from the perspective of the average human from the One Piece world and by doing so, we get to see how some of the Strawhats actions have possitevely affected all those people around the world. This approach feels specially hearthwarming and relatable as we can feel this new characters are, to some degree, a representation of us, One Piece readers/watchers into the story itself, and by doing so, calling this Fan Letter couldn't fit it better.\\n\\n~~~img440(https://imgpost.co/images/2024/10/20/vlcsnap-2024-10-20-16h52m34s117.png)\\nimg440(https://imgpost.co/images/2024/10/20/vlcsnap-2024-10-20-17h02m13s132.png)\\nimg440(https://imgpost.co/images/2024/10/20/vlcsnap-2024-10-20-17h02m09s548.png)\\nimg440(https://imgpost.co/images/2024/10/20/vlcsnap-2024-10-20-17h02m30s832.png)~~~\\n\\nAnd, it's not only that we can see ourselves into this special, but also that we can tell how Ishitani's love for One Piece shines in her direction of the episode, she's also a fan and it tells. Every second of the special feels like she's telling us \\\"I'm the same as you, a One Piece fan, and since I'm so too, I'll thank this story that's moved our lifes so much in your regard\\\". She embraces this vivid world with an incredibly fluid direction, intertwining each one of these short stories slowly just so in the end they're all just the story of this little girl who just wanted to tell Nami how big of a fan of hers she was.\\n\\n~~~img700(https://imgpost.co/images/2024/10/20/vlcsnap-2024-10-20-17h07m45s081.png)~~~\\n\\nThis is an incredibly touching special for all of us that's been travelling along Luffy and the crew over the ages, and as one of those I couldn't be more grateful to Ishitani for what she's gifted us in this.\\n\\n~~~img700(https://imgpost.co/images/2024/10/20/vlcsnap-2024-10-20-17h08m13s441.png)~~~\\n\\nFrom the more moving stories such of that of a young girl that's moved by Nami's adventuring into a world of monsters while still being just a regular girl without any powers or special strenght to a younger brother that having faced death at war with his older brother learns to cherish him no matter what after witnessing Luffy's efforts to rescue Ace. From a girl that's just annoyed of missing her last chance to see Soul King perform live, some kids that like to mess with her at it's book store and some guys that likes to argue over who's the strongest swordsman in the world at a bar that provides the necessary, and to this point characteristic, One Piece comic relief.\\n\\n~~~img700(https://imgpost.co/images/2024/10/20/vlcsnap-2024-10-20-17h08m31s552.png)~~~\\n\\nFan Letter embraces what One Piece really is from every angle, its very essence, forging everything into an outstandingly well directed and animated special and, although One Piece has established itself as what it is today obviously mainly due to Oda's excellent worldbuilding and writting, it's also gained it's legendary status within the anime/manga world thanks to all of us joining Luffy onto his journey, making it our own journey. All of this makes One Piece so special and gives Fan Letter it's soul, because it is not only the little girl letter to Nami, it is also our letter, our love letter, to Oda's marvellous creation.\\n\\n~~~img700(https://imgpost.co/images/2024/10/20/vlcsnap-2024-10-20-17h10m37s218.png)~~~\",\n          \">#####___This review is spoiler-free.___\\n\\n~~~<p align=\\\"justify\\\"><h1><a>**\\u3008 &#120284;&#120315; &#120321;&#120309;&#120310;&#120320; &#120324;&#120316;&#120319;&#120313;&#120305;, &#120315;&#120316;&#120321;&#120309;&#120310;&#120315;&#120308; &#120304;&#120302;&#120315; &#120303;&#120306; &#120320;&#120302;&#120310;&#120305; &#120321;&#120316; &#120303;&#120306; &#120304;&#120306;&#120319;&#120321;&#120302;&#120310;&#120315;... \\u3009**</a></h1></p>~~~\\n\\n<hr><p align=\\\"justify\\\">**At the core, adaptations are an incredible concept.** Having the ability and opportunity to breathe new life into a story by giving it a fresh and distinctive coat of paint is nothing to scoff at, and time and time again, we are reminded how these creations can elevate both the source material and the narrative itself, especially since audiovisual formats tend to attract a broader audience due to their sheer accessibility.</p>\\n\\n<p align=\\\"justify\\\">Given all of this, it is no wonder that countless creative teams have rolled up their sleeves and had a crack at bringing [Junji Ito](https://anilist.co/staff/97410/Junji-Itou)'s manga to the small screen, hoping to marry his haunting imagery with equally effective animation and sound design. Yet, despite their sky-high hopes and ambitions, these ill-fated projects have all crashed and burnt in spectacular fashion, and the 2024 adaptation of *Uzumaki* is no exception. **To be perfectly blunt, this might just be one of the most disrespectful, disgusting and downright disheartening adaptations I have ever had the misfortune of seeing.**</p>\\n\\n~~~img350(https://i.imgur.com/V7aVZn8.jpeg)~~~\\n\\n<p align=\\\"justify\\\">Before I get to the meat and potatoes\\u2014or rather, address the elephant in the room\\u2014there is something I need to make crystal clear. **I am in no position to ponder, speculate or fill anyone in on what exactly happened behind the scenes or why the final outcome turned out to be so repulsively lacklustre.** Frankly, even if I had the full lowdown on the whole predicament, it would not excuse or justify the atrocious quality of the production one bit. While I have the utmost respect and adoration for every animator who pours their heart and soul into their work, in the end, what really counts is the finished product, and, oh boy, what a terrifying sight it is.</p>\\n\\n<p align=\\\"justify\\\">To call *Uzumaki*'s production values a laughable mess would be an understatement of the century, **as this multi-year endeavour feels more like something cobbled together on a shoestring budget, rather than the aftermath of numerous months of hard work spent on tirelessly bringing Ito's poster child to life**. However, I am getting way ahead of myself, so we need to rewind and take a closer look, step by step.</p>\\n\\n<p align=\\\"justify\\\">Before the series spirals into the meme-worthy fiasco that it is, **for a solid 25% (meaning the first episode) of its run, *Uzumaki* actually looks like it has some real potential**, at least from a purely visual standpoint. While I personally would have preferred to see the manga's impeccable, memorable surroundings and body horror rendered in grim, cold, and otherwordly colours\\u2014a palette like this would have allowed the twisted narrative to truly get its claws into you and send a shiver down your spine in a unique manner\\u2014the anime seems adamant about staying true to the manga's black-and-white aesthetic, almost frantically and passionately following the source material's style and vibe down to the smallest detail where not even a single pebble is allowed to be out of place. **In a sense, the adaptation's mission might have been a one-to-one recreation, which, while not the best way to \\\"translate\\\" stories between mediums, shows a genuine fondness for the original.** The first episode's art style is on point to a surprising degree, adequately reproducing the locations, character designs and overall atmosphere. What is more, the liberal use of rotoscoping throughout the episode adds a lot of flair and stylishness to an already impressive-looking premiere.</p>\\n\\n<p align=\\\"justify\\\">**Nevertheless, that is precisely where my praise comes to a screeching halt and hits a brick wall.** The remaining 75% of *Uzumaki* is nothing short of embarrassing, and the way it violates your eyes with its hideousness should be studied for years to come. **From episode two onward, the quality takes a nosedive, and it is downright ridiculous how many animation and drawing errors made it through.** I will not supply you with actual examples of those things appearing on the screen\\u2014you can easily find them online if you are morbidly curious\\u2014but imagine something very much akin to [Berserk 2016](https://anilist.co/anime/21560/Berserk/) in terms of visual clarity, and you will have a good idea of what you are in for. Episodes three and four may not be as utterly irredeemable as the infamous second one, yet their quality is still woefully horrendous across the board:</p>\\n\\n- The art style goes from vibrant to watered-down, lifeless and merely ugly, which is surprising considering how promising it seemed at first. \\n- The once impressive animation becomes laughably rigid and primitive, making many scenes look like something straight out of an old-school, low-quality video game. \\n- The lighting is atrocious, adding insult to injury by making the already hard-to-look-at stills and scenes that much more unbearable. \\n- The chaotic editing has no sense of timing or interconnectedness, glueing every sequence with little to no care for fluidity or cohesion. \\n- The camerawork seems oddly comedic, completely undermining the eerie feel the manga is known for. \\n- The goofy sound effects wholly ruin the atmosphere beyond repair. \\n- The voice acting is sufficient but nothing to write home about.</ul><p align=\\\"justify\\\">There are many, many more inadequacies and shortcomings within the audiovisuals department, each one chipping away at both the core essence of the original and the show's ability to stand on its own two feet. The only shining light in this otherwise dark tunnel is the soundtrack by [Colin Stetson](https://anilist.co/staff/144471/Colin-Stetson). It is an absolute banger that deserves all the praise and love it gets, but sadly, it cannot singlehandedly save the rest of the production from falling apart.</p>\\n\\n<p align=\\\"justify\\\">**And yet, even these depressing issues and flaws are nothing in comparison to the treatment the narrative received.**</p>\\n\\n~~~img400(https://i.imgur.com/dMQvr6m.gif)~~~\\n\\n<p align=\\\"justify\\\">Let me get this off my chest first\\u2014**[*Uzumaki*](https://anilist.co/manga/30436/Uzumaki/) is not a well-written manga.** Even though the atmosphere and horror elements are phenomenal, the story and the characters become progressively more lukewarm and shallow as the chapters progress. Yes, the plot itself has its moments and some of the mini-arcs peppered throughout the earlier chapters can pack a punch, but, ultimately, it is the visuals that do all the talking and heavy lifting. So, does the anime manage to smooth out these rough edges with clever techniques and creative ideas? Not in the slightest. **In fact, it completely shits all over every single cool and unique plot point in the most banal, brutish, and brainless way possible.**</p> \\n\\n<p align=\\\"justify\\\">The root of the problem lies in **what might just be the worst pacing I have ever witnessed**, which somehow makes the oftentimes goofy and unintentionally unserious events and happenings of the manga look infinitely worse. For those not in the know, *Uzumaki* is essentially a collection of chapter-long stories that form one, somewhat understandable storyline. The order in which they appear is by no means random\\u2014they follow the chronology of events, each one revolving around a specific object of horror that is inevitably connected to the spiral motif. The climax of these short tales is always the protagonists' confrontation with some grotesque monstrosity, which leads to the pi\\u00e8ce de r\\u00e9sistance of the entire manga: the twisted, nightmarish reveal of said entity's contorted, inhuman appearance. While the manga does tread at a rather hasty pace that can deter some people from liking it, it still retains some of its inherent charm. **Sadly, the anime does not follow suit.**</p>\\n\\n<p align=\\\"justify\\\">You see, the anime throws caution to the wind and decides to experiment. **Thus, it comes to the insane conclusion that mixing and intertwining the stories so that they create one continuous string of events happening simultaneously is a wise idea.** As you can imagine, this bold move backfires spectacularly. Picture a [Spotify](https://open.spotify.com/) playlist where every single song is from a different genre, in a different language, and plays at varying volumes; or those cartoon cooking pots filled with every random ingredient the characters could get their hands on; or a joke with no setup, where the punchline falls on deaf ears\\u2014that is what watching this anime feels like. By getting rid of the stories' independence, the show robs them of their proper setups and makes them feel incoherent. How can the horrifying, iconic imagery be considered striking when the build-up that is supposed to lead to them is flat-out non-existent? How can the stories be considered logical or impactful when their chronology is all over the place? How can the sincerely frightening content affect the viewer in any way, shape or form when they are presented in such a nonsensical, haphazard fashion? **This is, in my eyes, the anime's gravest sin, as it turned something painfully lukewarm into something absolutely unwatchable.**</p>\\n\\n~~~img300(https://i.imgur.com/tUUswLw.gif)~~~\\n\\n<p align=\\\"justify\\\">So, is there something to enjoy here? **The answer is a resounding no.** Sure, the first episode may be pleasing to look at, but all the issues mentioned above utterly sucked the enjoyment out of the experience. Now, throw in the absolute abomination that is the second episode and the half-baked, low-effort slop that makes up the rest, and it is no surprise I found myself bored to bloody tears while watching. In other words, there is zero reason to waste your time on this steaming pile of excrement. **If you are genuinely itching to check out Ito's most iconic scenes and imagery, do yourself a favour and pick up the manga instead.** It might not be that compelling of a read, but the atmosphere and the art style make it worthwhile.</p>\\n\\n<p align=\\\"justify\\\">All in all, the meme about the Junji Ito manga adaptations being horrible is still alive and kicking, and *Uzumaki* might have permanently killed my interest in any future \\\"passion projects\\\" that aim to convert the horrifying manga panels into a TV series. We waited years for this to come out, and the payoff for all that waiting and anticipation is a product that not only should have been baked for a little longer but honestly **should have stayed in the oven until it was charred beyond recognition.**</p>\\n\\n<p align=\\\"justify\\\">*Twist, turn and spiral down\\u2014this is easily the worst advertisement the manga could have asked for, and I am well and truly sick of thinking about it.*</p><hr>\\n\\n~~~<p align=\\\"justify\\\"><h1><a>**\\u3008 ...&#120306;&#120325;&#120304;&#120306;&#120317;&#120321; &#120305;&#120306;&#120302;&#120321;&#120309;, &#120321;&#120302;&#120325;&#120306;&#120320;, &#120302;&#120315;&#120305; &#120309;&#120316;&#120319;&#120319;&#120310;&#120303;&#120313;&#120306; &#120284;&#120321;&#120316; &#120302;&#120305;&#120302;&#120317;&#120321;&#120302;&#120321;&#120310;&#120316;&#120315;&#120320;. \\u3009**</a></h1></p>~~~\",\n          \"Two days after the second episode of Uzumaki released, executive producer Jason DeMarco posted an official statement on Bluesky before deleting it shortly after. In this statement, he says that the series was almost cancelled after \\\"one or two people screwed them over\\\" and they had three choices:\\n1. Cancel it\\n2. Finish episode 1, cancel the rest\\n3. Finish episode 1, cheap out on episodes 2-4\\n\\nFor I'll say 90% of everyone that watches this, that's a bridge too far. And they're justified in being upset. Uzumaki was announced way too early in development and could have gotten less blowback had it been announced in 2022 instead of 2019. But hell, even if it was announced this year, it was not only Adult Swim's first direct manga adaptation but an adaptation of what is considered Junji Ito's most well-known and beloved work. Junji Ito did not let anyone adapt the manga into an anime (there <i>is</i> a weak live-action movie adaptation) because he didn't think any of them could pull it off until Hiroshi Nagahama, director of Mushishi and The Flowers of Evil, called. The idea was that instead of making a straight adaptation of the manga, which after a while would have been monotonous, Nagahama would kind of combine all of the best chapters of the manga into one continuing narrative, with a few small changes. This, alongside Colin Stetson doing the music (something that was announced like a year after Hereditary), is pretty much all we knew up until it actually released.\\n\\nI think Jason DeMarco's statement is important because, in my opinion, it completely recontextualizes Uzumaki. This isn't a scam funded by a company that should probably stop greenlighting projects after Lazarus/Rooster Fighter/a couple unannounced projects that have already started development, which I'm saying even as someone that's liked some of what they've put out (Shenmue, the FLCL sequels that aren't Grunge). This is an attempt to salvage what could've been a masterpiece.\\n\\n\\n\\nAnd of course, this begs a philosophical question: is it better to cancel an unfinished series and take the L, or finish it knowing it will never live up to the original expectations?\\n\\n\\n\\nThe craziest part is that, if Jason DeMarco didn't say a thing, I think episodes 3 and 4 would have had better reception. Episode 2 is the only time the animation noticeably dips. Each episode is storyboarded by Hiroshi Nagahama, so it always feels like his version of Uzumaki. As a fan of the manga, this anime does a great job recreating what makes the manga so special. The feeling of everything slowly getting worse, the grotesque imagery, the human body contorting in physically impossible ways. It's all here. The highlight for me is Colin Stetson's score. He brought his A-game here.\\n\\n\\n\\nIs Uzumaki's anime great? Yes, albeit barely. If the single appeal to you is the animation then uh yeah your mileage will vary. Just keep your expectations low. For me, animation <i>isn't</i> the singular appeal to me, it very rarely is, so I'm able to look past that (mostly because episodes 3 & 4 look way better than episode 2) and see this anime for what it is: the best Uzumaki adaptation we're ever gonna get.\"\n        ],\n        \"semantic_type\": \"\",\n        \"description\": \"\"\n      }\n    },\n    {\n      \"column\": \"node.summary\",\n      \"properties\": {\n        \"dtype\": \"string\",\n        \"num_unique_values\": 9,\n        \"samples\": [\n          \"A love letter to Oda's creation\",\n          \"Scandalous, slovenly, and slapdash\\u2014a screw-up that spiralled out of control.\",\n          \"Is it better to cancel an unfinished series, or finish it knowing it will never live up to its impossible expectations?\"\n        ],\n        \"semantic_type\": \"\",\n        \"description\": \"\"\n      }\n    }\n  ]\n}"
            }
          },
          "metadata": {},
          "execution_count": 22
        }
      ]
    },
    {
      "cell_type": "markdown",
      "source": [
        "The following code connects to a database, inserts the review_data DataFrame into the REVIEW table, and logs the progress and outcome. The messages confirm a successful connection, data insertion, the operation's duration, and the disconnection after completion."
      ],
      "metadata": {
        "id": "4CzVTPXxB9ET"
      }
    },
    {
      "cell_type": "code",
      "source": [
        "insert_data(table='REVIEW', data=review_data)"
      ],
      "metadata": {
        "colab": {
          "base_uri": "https://localhost:8080/"
        },
        "id": "B0vcaNEnuCVX",
        "outputId": "bd6f03be-d95e-4d00-be95-c44881096dfc"
      },
      "execution_count": null,
      "outputs": [
        {
          "output_type": "stream",
          "name": "stdout",
          "text": [
            "2024-11-23 08:08:52\tConnected!\n",
            "2024-11-23 08:08:52\tInserting...\n",
            "2024-11-23 08:08:55\tOperation took 2.5762 seconds.\n",
            "2024-11-23 08:08:55\tSuccessful operation.\n",
            "2024-11-23 08:08:55\tDisconnected.\n"
          ]
        }
      ]
    },
    {
      "cell_type": "markdown",
      "source": [
        "This retrieves and displays all the data stored in the REVIEW table. It allows verification that the data insertion was successful and that the table's contents are as expected."
      ],
      "metadata": {
        "id": "EtAn5pGdCIvy"
      }
    },
    {
      "cell_type": "code",
      "source": [
        " display_all('REVIEW')"
      ],
      "metadata": {
        "colab": {
          "base_uri": "https://localhost:8080/",
          "height": 415
        },
        "id": "05W5jR3vwV-O",
        "outputId": "36238ada-092f-41eb-da46-84958a86bfa4"
      },
      "execution_count": null,
      "outputs": [
        {
          "output_type": "stream",
          "name": "stdout",
          "text": [
            "2024-11-23 08:08:56\tConnected!\n"
          ]
        },
        {
          "output_type": "display_data",
          "data": {
            "text/plain": [
              "shape: (9, 7)\n",
              "┌───────┬─────────┬────────┬──────────────┬───────┬────────────────────────┬───────────────────────┐\n",
              "│ id    ┆ mediaid ┆ rating ┆ ratingamount ┆ score ┆ body                   ┆ summary               │\n",
              "│ ---   ┆ ---     ┆ ---    ┆ ---          ┆ ---   ┆ ---                    ┆ ---                   │\n",
              "│ i64   ┆ i64     ┆ i64    ┆ i64          ┆ i64   ┆ str                    ┆ str                   │\n",
              "╞═══════╪═════════╪════════╪══════════════╪═══════╪════════════════════════╪═══════════════════════╡\n",
              "│ 25845 ┆ 111314  ┆ 101    ┆ 112          ┆ 50    ┆ ~~~                    ┆ The Animation Was the │\n",
              "│       ┆         ┆        ┆              ┆       ┆                        ┆ Scariest…             │\n",
              "│       ┆         ┆        ┆              ┆       ┆ #*Originally written   ┆                       │\n",
              "│       ┆         ┆        ┆              ┆       ┆ for …                  ┆                       │\n",
              "│ 25846 ┆ 111314  ┆ 118    ┆ 131          ┆ 21    ┆ >#####___This review   ┆ Scandalous, slovenly, │\n",
              "│       ┆         ┆        ┆              ┆       ┆ is spoile…             ┆ and slap…             │\n",
              "│ 25847 ┆ 111314  ┆ 23     ┆ 30           ┆ 25    ┆ ***                    ┆ They had us in the    │\n",
              "│       ┆         ┆        ┆              ┆       ┆ <img                   ┆ first quart…          │\n",
              "│       ┆         ┆        ┆              ┆       ┆ src=\"https://sm.ign.c… ┆                       │\n",
              "│ 25848 ┆ 111314  ┆ 24     ┆ 32           ┆ 17    ┆ __This review is       ┆ Another Studio        │\n",
              "│       ┆         ┆        ┆              ┆       ┆ spoilerless a…         ┆ Tarnishes Ito's…      │\n",
              "│ 25857 ┆ 111314  ┆ 49     ┆ 81           ┆ 10    ┆ # Review is light in   ┆ Uzumaki: a spiral to  │\n",
              "│       ┆         ┆        ┆              ┆       ┆ spoilers               ┆ boredom               │\n",
              "│       ┆         ┆        ┆              ┆       ┆ …                      ┆                       │\n",
              "│ 25931 ┆ 111314  ┆ 8      ┆ 32           ┆ 81    ┆ Two days after the     ┆ Is it better to       │\n",
              "│       ┆         ┆        ┆              ┆       ┆ second epis…           ┆ cancel an unfi…       │\n",
              "│ 25832 ┆ 166703  ┆ 14     ┆ 18           ┆ 70    ┆ <p                     ┆ mfw the suit is       │\n",
              "│       ┆         ┆        ┆              ┆       ┆ align=\"justify\">Okay,  ┆ mobile                │\n",
              "│       ┆         ┆        ┆              ┆       ┆ stand…                 ┆                       │\n",
              "│ 25854 ┆ 182469  ┆ 223    ┆ 235          ┆ 100   ┆ When I knew a few      ┆ A love letter to      │\n",
              "│       ┆         ┆        ┆              ┆       ┆ weeks ago th…          ┆ Oda's creatio…        │\n",
              "│ 25862 ┆ 182469  ┆ 19     ┆ 191          ┆ 64    ┆ The special begins on  ┆ Ishitani would do     │\n",
              "│       ┆         ┆        ┆              ┆       ┆ a recap …              ┆ right to sac…         │\n",
              "└───────┴─────────┴────────┴──────────────┴───────┴────────────────────────┴───────────────────────┘"
            ],
            "text/html": [
              "<div><style>\n",
              ".dataframe > thead > tr,\n",
              ".dataframe > tbody > tr {\n",
              "  text-align: right;\n",
              "  white-space: pre-wrap;\n",
              "}\n",
              "</style>\n",
              "<small>shape: (9, 7)</small><table border=\"1\" class=\"dataframe\"><thead><tr><th>id</th><th>mediaid</th><th>rating</th><th>ratingamount</th><th>score</th><th>body</th><th>summary</th></tr><tr><td>i64</td><td>i64</td><td>i64</td><td>i64</td><td>i64</td><td>str</td><td>str</td></tr></thead><tbody><tr><td>25845</td><td>111314</td><td>101</td><td>112</td><td>50</td><td>&quot;~~~\n",
              "\n",
              "#*Originally written for …</td><td>&quot;The Animation Was the Scariest…</td></tr><tr><td>25846</td><td>111314</td><td>118</td><td>131</td><td>21</td><td>&quot;&gt;#####___This review is spoile…</td><td>&quot;Scandalous, slovenly, and slap…</td></tr><tr><td>25847</td><td>111314</td><td>23</td><td>30</td><td>25</td><td>&quot;***\n",
              "&lt;img src=&quot;https://sm.ign.c…</td><td>&quot;They had us in the first quart…</td></tr><tr><td>25848</td><td>111314</td><td>24</td><td>32</td><td>17</td><td>&quot;__This review is spoilerless a…</td><td>&quot;Another Studio Tarnishes Ito&#x27;s…</td></tr><tr><td>25857</td><td>111314</td><td>49</td><td>81</td><td>10</td><td>&quot;# Review is light in spoilers\n",
              "…</td><td>&quot;Uzumaki: a spiral to boredom&quot;</td></tr><tr><td>25931</td><td>111314</td><td>8</td><td>32</td><td>81</td><td>&quot;Two days after the second epis…</td><td>&quot;Is it better to cancel an unfi…</td></tr><tr><td>25832</td><td>166703</td><td>14</td><td>18</td><td>70</td><td>&quot;&lt;p align=&quot;justify&quot;&gt;Okay, stand…</td><td>&quot;mfw the suit is mobile&quot;</td></tr><tr><td>25854</td><td>182469</td><td>223</td><td>235</td><td>100</td><td>&quot;When I knew a few weeks ago th…</td><td>&quot;A love letter to Oda&#x27;s creatio…</td></tr><tr><td>25862</td><td>182469</td><td>19</td><td>191</td><td>64</td><td>&quot;The special begins on a recap …</td><td>&quot;Ishitani would do right to sac…</td></tr></tbody></table></div>"
            ]
          },
          "metadata": {}
        },
        {
          "output_type": "stream",
          "name": "stdout",
          "text": [
            "2024-11-23 08:08:57\tDisconnected.\n"
          ]
        }
      ]
    }
  ]
}